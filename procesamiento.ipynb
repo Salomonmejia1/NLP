{
 "cells": [
  {
   "cell_type": "markdown",
   "metadata": {},
   "source": [
    "Procesamiento de lenguaje natural para textos de Juan Rulfo: analizando sentimentos "
   ]
  },
  {
   "cell_type": "code",
   "execution_count": 3,
   "metadata": {},
   "outputs": [],
   "source": [
    "import spacy \n",
    "from spacy import displacy\n"
   ]
  },
  {
   "cell_type": "code",
   "execution_count": 4,
   "metadata": {},
   "outputs": [],
   "source": [
    "nlp1 = spacy.load(\"es_core_news_sm\")\n",
    "#nlp2 = spacy.load(\"es_dep_news_trf\")"
   ]
  },
  {
   "cell_type": "code",
   "execution_count": 5,
   "metadata": {},
   "outputs": [],
   "source": [
    "text = \"De los cerros altos del sur, el de Luvina es el más alto y el más pedregoso. Está plagado de esa piedra gris con la que hacen la cal, pero en Luvina no hacen cal con ella ni le sacan ningún provecho.\""
   ]
  },
  {
   "cell_type": "code",
   "execution_count": 6,
   "metadata": {},
   "outputs": [],
   "source": [
    "doc = nlp1(text)"
   ]
  },
  {
   "cell_type": "code",
   "execution_count": 8,
   "metadata": {},
   "outputs": [
    {
     "data": {
      "text/plain": [
       "<spacy.pipeline.sentencizer.Sentencizer at 0x1c11542f280>"
      ]
     },
     "execution_count": 8,
     "metadata": {},
     "output_type": "execute_result"
    }
   ],
   "source": [
    "#extrayendo las frases\n",
    "#identifica los componentes gramaticales y crea una oracion\n",
    "nlp1.add_pipe(\"sentencizer\", before=\"parser\")"
   ]
  },
  {
   "cell_type": "code",
   "execution_count": 9,
   "metadata": {},
   "outputs": [],
   "source": [
    "#cambia la forma para identificar las oraciones\n",
    "doc = nlp1(text)"
   ]
  },
  {
   "cell_type": "code",
   "execution_count": 10,
   "metadata": {},
   "outputs": [
    {
     "name": "stdout",
     "output_type": "stream",
     "text": [
      "De los cerros altos del sur, el de Luvina es el más alto y el más pedregoso.\n",
      "Está plagado de esa piedra gris con la que hacen la cal, pero en Luvina no hacen cal con ella ni le sacan ningún provecho.\n"
     ]
    }
   ],
   "source": [
    "for orac in doc.sents: \n",
    "    print(orac)"
   ]
  },
  {
   "cell_type": "code",
   "execution_count": 11,
   "metadata": {},
   "outputs": [
    {
     "name": "stdout",
     "output_type": "stream",
     "text": [
      "['vuestros', 'su', 'cuantos', 'dado', 'u', 'primero', 'vuestras', 'explicó', 'dias', 'ver', 'cuándo', 'suya', 'dijo', 'haces', 'partir', 'informo', 'ultimo', 'mía', 'será', 'cierta', 'conmigo', 'estos', 'podria', 'consigues', 'menos', 'está', 'existe', 'lo', 'más', 'tuvo', 'todavía', 'ocho', 'del', 'sé', 'aun', 'otro', 'cuenta', 'cuál', 'poder', 'podriamos', 'largo', 'sea', 'tras', 'aquélla', 'incluso', 'última', 'nuestras', 'diez', 'solamente', 'embargo', 'ese', 'todavia', 'uno', 'este', 'estuvo', 'ninguna', 'ninguno', 'eramos', 'otros', 'bajo', 'contra', 'despacio', 'últimas', 'ustedes', 'cómo', 'ésta', 'propias', 'a', 'cada', 'sus', 'saben', 'dentro', 'mucha', 'tiene', 'ése', 'he', 'aquéllas', 'aquél', 'soy', 'menudo', 'ningunos', 'verdadera', 'cuánta', 'debajo', 'hubo', 'mis', 'o', 'y', 'nunca', 'tenía', 'llevar', 'pueden', 'hacen', 'podrían', 'realizó', 'sois', 'ésos', 'conseguimos', 'ser', 'temprano', 'dia', 'nuevos', 'propio', 'tengo', 'entre', 'tenido', 'delante', 'son', 'estas', 'casi', 'algún', 'aunque', 'éstas', 'cuatro', 'dónde', 'tuya', 'hacer', 'un', 'también', 'quiere', 'antes', 'hecho', 'día', 'otras', 'consigo', 'míos', 'nadie', 'siguiente', 'solos', 'pueda', 'es', 'manera', 'hizo', 'quizá', 'dos', 'qué', 'él', 'ningún', 'tampoco', 'siempre', 'cuáles', 'los', 'tu', 'tanto', 'hago', 'estais', 'podriais', 'había', 'junto', 'contigo', 'podrian', 'fue', 'se', 'nosotras', 'dice', 'sido', 'mio', 'yo', 'tercero', 'en', 'once', 'le', 'cuanto', 'cierto', 'llegó', 'pesar', 'propios', 'voy', 'hace', 'haciendo', 'usas', 'aquí', 'cuántas', 'éste', 'eso', 'realizar', 'una', 'demasiado', 'sólo', 'usamos', 'dan', 'próximo', 'vosotras', 'atras', 'hoy', 'aqui', 'la', 'asi', 'tuyo', 'hablan', 'donde', 'verdad', 'tenga', 'buen', 'siete', 'podrá', 'tendrán', 'consideró', 'nueva', 'tus', 'pocos', 'misma', 'creo', 'el', 'enseguida', 'mia', 'desde', 'poner', 'apenas', 'me', 'últimos', 'mios', 'cuánto', 'cuantas', 'uso', 'ella', 'tuyos', 'suyo', 'si', 'pocas', 'trata', 'adelante', 'hicieron', 'mías', 'mencionó', 'algunos', 'cuales', 'alguna', 'siendo', 'podeis', 'habían', 'encima', 'mismos', 'esto', 'tan', 'sino', 'excepto', 'están', 'ante', 'ha', 'haceis', 'han', 'pasado', 'demás', 'sin', 'nuestro', 'pues', 'varios', 'mío', 'alguno', 'segundo', 'verdadero', 'seis', 'vaya', 'expresó', 'nuevo', 'entonces', 'ahora', 'grande', 'pero', 'existen', 'lado', 'pudo', 'tendrá', 'considera', 'afirmó', 'dar', 'buenos', 'esta', 'porque', 'podría', 'qeu', 'pronto', 'sabeis', 'vamos', 'fuera', 'aquellas', 'ademas', 'alli', 'añadió', 'quizás', 'estan', 'sigue', 'esa', 'cinco', 'peor', 'habrá', 'según', 'cual', 'te', 'usted', 'ningunas', 'estado', 'fuimos', 'grandes', 'segunda', 'habia', 'haya', 'ésa', 'todos', 'conocer', 'solas', 'esos', 'detras', 'claro', 'al', 'no', 'usar', 'otra', 'varias', 'mismo', 'era', 'eres', 'podrán', 'primera', 'vais', 'ahí', 'acuerdo', 'dijeron', 'hemos', 'haber', 'saber', 'supuesto', 'bien', 'vuestro', 'segun', 'sería', 'estará', 'solo', 'suyos', 'aún', 'deprisa', 'somos', 'ir', 'hacemos', 'tú', 'allí', 'igual', 'aseguró', 'unas', 'como', 'algunas', 'ahi', 'gran', 'va', 'aquellos', 'nada', 'quiénes', 'vez', 'comentó', 'fin', 'estaban', 'despues', 'sabes', 'podemos', 'después', 'ya', 'último', 'mí', 'quizas', 'poca', 'enfrente', 'dicen', 'modo', 'hacia', 'detrás', 'mi', 'tercera', 'aproximadamente', 'aquéllos', 'final', 'dicho', 'total', 'indicó', 'estados', 'les', 'mismas', 'vuestra', 'mias', 'deben', 'arriba', 'decir', 'hasta', 'informó', 'señaló', 'puedo', 'fueron', 'bastante', 'muy', 'propia', 'debido', 'suyas', 'unos', 'usais', 'nuestros', 'además', 'proximo', 'conseguir', 'durante', 'queremos', 'estar', 'repente', 'doce', 'así', 'consiguen', 'agregó', 'tarde', 'través', 'da', 'nueve', 'tres', 'ciertas', 'ésas', 'e', 'dejó', 'cualquier', 'respecto', 'sola', 'parte', 'próximos', 'cuando', 'eras', 'usan', 'con', 'fui', 'parece', 'poco', 'de', 'medio', 'ambos', 'mientras', 'buenas', 'nuevas', 'algo', 'sobre', 'sí', 'breve', 'sean', 'hacerlo', 'estaba', 'os', 'quiza', 'nos', 'esas', 'muchos', 'usa', 'lleva', 'cuanta', 'nuestra', 'tenemos', 'bueno', 'quien', 'quienes', 'ti', 'estoy', 'realizado', 'tuyas', 'mediante', 'mucho', 'sabe', 'mejor', 'aquello', 'cuántos', 'hay', 'aquella', 'salvo', 'diferente', 'por', 'manifestó', 'consigue', 'aquel', 'podrias', 'ellas', 'puede', 'posible', 'nosotros', 'vosotros', 'luego', 'ni', 'ciertos', 'van', 'éstos', 'buena', 'sabemos', 'veces', 'anterior', 'mas', 'ellos', 'ello', 'tienen', 'encuentra', 'habla', 'dieron', 'diferentes', 'alrededor', 'todo', 'teneis', 'tal', 'estamos', 'paìs', 'mayor', 'primer', 'primeros', 'sera', 'días', 'debe', 'las', 'tambien', 'tener', 'todas', 'quién', 'toda', 'muchas', 'que', 'eran', 'para', 'dio', 'pasada', 'quedó', 'serán', 'mal'],"
     ]
    },
    {
     "data": {
      "text/plain": [
       "521"
      ]
     },
     "execution_count": 11,
     "metadata": {},
     "output_type": "execute_result"
    }
   ],
   "source": [
    "#eliminando las stop words\n",
    "import nltk\n",
    "from spacy.lang.es.stop_words import STOP_WORDS\n",
    "\n",
    "stopwords_spacy = list(STOP_WORDS)\n",
    "print(stopwords_spacy, end=\",\")\n",
    "len(stopwords_spacy)"
   ]
  },
  {
   "cell_type": "code",
   "execution_count": 12,
   "metadata": {},
   "outputs": [
    {
     "name": "stdout",
     "output_type": "stream",
     "text": [
      "cerros\n",
      "altos\n",
      "sur\n",
      ",\n",
      "Luvina\n",
      "alto\n",
      "pedregoso\n",
      ".\n",
      "plagado\n",
      "piedra\n",
      "gris\n",
      "cal\n",
      ",\n",
      "Luvina\n",
      "cal\n",
      "sacan\n",
      "provecho\n",
      ".\n"
     ]
    }
   ],
   "source": [
    "for token in doc: \n",
    "    if token.is_stop == False: \n",
    "        print(token)"
   ]
  },
  {
   "cell_type": "code",
   "execution_count": 13,
   "metadata": {},
   "outputs": [
    {
     "name": "stdout",
     "output_type": "stream",
     "text": [
      "De de\n",
      "los el\n",
      "cerros cerros\n",
      "altos alto\n",
      "del del\n",
      "sur sur\n",
      ", ,\n",
      "el el\n",
      "de de\n",
      "Luvina Luvina\n",
      "es ser\n",
      "el el\n",
      "más más\n",
      "alto alto\n",
      "y y\n",
      "el el\n",
      "más más\n",
      "pedregoso pedregoso\n",
      ". .\n",
      "Está estar\n",
      "plagado plagado\n",
      "de de\n",
      "esa ese\n",
      "piedra piedra\n",
      "gris gris\n",
      "con con\n",
      "la el\n",
      "que que\n",
      "hacen hacer\n",
      "la el\n",
      "cal cal\n",
      ", ,\n",
      "pero pero\n",
      "en en\n",
      "Luvina Luvina\n",
      "no no\n",
      "hacen hacer\n",
      "cal cal\n",
      "con con\n",
      "ella él\n",
      "ni ni\n",
      "le él\n",
      "sacan sacar\n",
      "ningún ninguno\n",
      "provecho provecho\n",
      ". .\n"
     ]
    }
   ],
   "source": [
    "#lematizacion (elimina conjugaciones de la misma palabra)\n",
    "for lem in doc: \n",
    "    print(lem.text, lem.lemma_)\n"
   ]
  },
  {
   "cell_type": "code",
   "execution_count": 14,
   "metadata": {},
   "outputs": [],
   "source": [
    "#pos (part o speech tagging) que funcion cumple una palabra dentro de una frase\n",
    "\n",
    "doc = nlp1(\"De los cerros altos del sur, el de Luvina es el más alto y el más pedregoso. Está plagado de esa piedra gris con la que hacen la cal, pero en Luvina no hacen cal con ella ni le sacan ningún provecho.\")"
   ]
  },
  {
   "cell_type": "code",
   "execution_count": 15,
   "metadata": {},
   "outputs": [
    {
     "name": "stdout",
     "output_type": "stream",
     "text": [
      "De ADP\n",
      "los DET\n",
      "cerros NOUN\n",
      "altos ADJ\n",
      "del ADP\n",
      "sur NOUN\n",
      ", PUNCT\n",
      "el DET\n",
      "de ADP\n",
      "Luvina PROPN\n",
      "es AUX\n",
      "el DET\n",
      "más ADV\n",
      "alto ADJ\n",
      "y CCONJ\n",
      "el DET\n",
      "más ADV\n",
      "pedregoso ADJ\n",
      ". PUNCT\n",
      "Está AUX\n",
      "plagado ADJ\n",
      "de ADP\n",
      "esa DET\n",
      "piedra NOUN\n",
      "gris ADJ\n",
      "con ADP\n",
      "la DET\n",
      "que PRON\n",
      "hacen VERB\n",
      "la DET\n",
      "cal NOUN\n",
      ", PUNCT\n",
      "pero CCONJ\n",
      "en ADP\n",
      "Luvina PROPN\n",
      "no ADV\n",
      "hacen VERB\n",
      "cal NOUN\n",
      "con ADP\n",
      "ella PRON\n",
      "ni CCONJ\n",
      "le PRON\n",
      "sacan VERB\n",
      "ningún DET\n",
      "provecho NOUN\n",
      ". PUNCT\n"
     ]
    }
   ],
   "source": [
    "for token in doc: \n",
    "    print(token.text, token.pos_)"
   ]
  },
  {
   "cell_type": "code",
   "execution_count": 16,
   "metadata": {},
   "outputs": [
    {
     "data": {
      "text/html": [
       "<span class=\"tex2jax_ignore\"><svg xmlns=\"http://www.w3.org/2000/svg\" xmlns:xlink=\"http://www.w3.org/1999/xlink\" xml:lang=\"es\" id=\"967609a2aad64336a04496bdf31d27f0-0\" class=\"displacy\" width=\"7400\" height=\"574.5\" direction=\"ltr\" style=\"max-width: none; height: 574.5px; color: #000000; background: #ffffff; font-family: Arial; direction: ltr\">\n",
       "<text class=\"displacy-token\" fill=\"currentColor\" text-anchor=\"middle\" y=\"484.5\">\n",
       "    <tspan class=\"displacy-word\" fill=\"currentColor\" x=\"50\">De</tspan>\n",
       "    <tspan class=\"displacy-tag\" dy=\"2em\" fill=\"currentColor\" x=\"50\">ADP</tspan>\n",
       "</text>\n",
       "\n",
       "<text class=\"displacy-token\" fill=\"currentColor\" text-anchor=\"middle\" y=\"484.5\">\n",
       "    <tspan class=\"displacy-word\" fill=\"currentColor\" x=\"225\">los</tspan>\n",
       "    <tspan class=\"displacy-tag\" dy=\"2em\" fill=\"currentColor\" x=\"225\">DET</tspan>\n",
       "</text>\n",
       "\n",
       "<text class=\"displacy-token\" fill=\"currentColor\" text-anchor=\"middle\" y=\"484.5\">\n",
       "    <tspan class=\"displacy-word\" fill=\"currentColor\" x=\"400\">cerros</tspan>\n",
       "    <tspan class=\"displacy-tag\" dy=\"2em\" fill=\"currentColor\" x=\"400\">NOUN</tspan>\n",
       "</text>\n",
       "\n",
       "<text class=\"displacy-token\" fill=\"currentColor\" text-anchor=\"middle\" y=\"484.5\">\n",
       "    <tspan class=\"displacy-word\" fill=\"currentColor\" x=\"575\">altos</tspan>\n",
       "    <tspan class=\"displacy-tag\" dy=\"2em\" fill=\"currentColor\" x=\"575\">ADJ</tspan>\n",
       "</text>\n",
       "\n",
       "<text class=\"displacy-token\" fill=\"currentColor\" text-anchor=\"middle\" y=\"484.5\">\n",
       "    <tspan class=\"displacy-word\" fill=\"currentColor\" x=\"750\">del</tspan>\n",
       "    <tspan class=\"displacy-tag\" dy=\"2em\" fill=\"currentColor\" x=\"750\">ADP</tspan>\n",
       "</text>\n",
       "\n",
       "<text class=\"displacy-token\" fill=\"currentColor\" text-anchor=\"middle\" y=\"484.5\">\n",
       "    <tspan class=\"displacy-word\" fill=\"currentColor\" x=\"925\">sur,</tspan>\n",
       "    <tspan class=\"displacy-tag\" dy=\"2em\" fill=\"currentColor\" x=\"925\">NOUN</tspan>\n",
       "</text>\n",
       "\n",
       "<text class=\"displacy-token\" fill=\"currentColor\" text-anchor=\"middle\" y=\"484.5\">\n",
       "    <tspan class=\"displacy-word\" fill=\"currentColor\" x=\"1100\">el</tspan>\n",
       "    <tspan class=\"displacy-tag\" dy=\"2em\" fill=\"currentColor\" x=\"1100\">DET</tspan>\n",
       "</text>\n",
       "\n",
       "<text class=\"displacy-token\" fill=\"currentColor\" text-anchor=\"middle\" y=\"484.5\">\n",
       "    <tspan class=\"displacy-word\" fill=\"currentColor\" x=\"1275\">de</tspan>\n",
       "    <tspan class=\"displacy-tag\" dy=\"2em\" fill=\"currentColor\" x=\"1275\">ADP</tspan>\n",
       "</text>\n",
       "\n",
       "<text class=\"displacy-token\" fill=\"currentColor\" text-anchor=\"middle\" y=\"484.5\">\n",
       "    <tspan class=\"displacy-word\" fill=\"currentColor\" x=\"1450\">Luvina</tspan>\n",
       "    <tspan class=\"displacy-tag\" dy=\"2em\" fill=\"currentColor\" x=\"1450\">PROPN</tspan>\n",
       "</text>\n",
       "\n",
       "<text class=\"displacy-token\" fill=\"currentColor\" text-anchor=\"middle\" y=\"484.5\">\n",
       "    <tspan class=\"displacy-word\" fill=\"currentColor\" x=\"1625\">es</tspan>\n",
       "    <tspan class=\"displacy-tag\" dy=\"2em\" fill=\"currentColor\" x=\"1625\">AUX</tspan>\n",
       "</text>\n",
       "\n",
       "<text class=\"displacy-token\" fill=\"currentColor\" text-anchor=\"middle\" y=\"484.5\">\n",
       "    <tspan class=\"displacy-word\" fill=\"currentColor\" x=\"1800\">el</tspan>\n",
       "    <tspan class=\"displacy-tag\" dy=\"2em\" fill=\"currentColor\" x=\"1800\">DET</tspan>\n",
       "</text>\n",
       "\n",
       "<text class=\"displacy-token\" fill=\"currentColor\" text-anchor=\"middle\" y=\"484.5\">\n",
       "    <tspan class=\"displacy-word\" fill=\"currentColor\" x=\"1975\">más</tspan>\n",
       "    <tspan class=\"displacy-tag\" dy=\"2em\" fill=\"currentColor\" x=\"1975\">ADV</tspan>\n",
       "</text>\n",
       "\n",
       "<text class=\"displacy-token\" fill=\"currentColor\" text-anchor=\"middle\" y=\"484.5\">\n",
       "    <tspan class=\"displacy-word\" fill=\"currentColor\" x=\"2150\">alto</tspan>\n",
       "    <tspan class=\"displacy-tag\" dy=\"2em\" fill=\"currentColor\" x=\"2150\">ADJ</tspan>\n",
       "</text>\n",
       "\n",
       "<text class=\"displacy-token\" fill=\"currentColor\" text-anchor=\"middle\" y=\"484.5\">\n",
       "    <tspan class=\"displacy-word\" fill=\"currentColor\" x=\"2325\">y</tspan>\n",
       "    <tspan class=\"displacy-tag\" dy=\"2em\" fill=\"currentColor\" x=\"2325\">CCONJ</tspan>\n",
       "</text>\n",
       "\n",
       "<text class=\"displacy-token\" fill=\"currentColor\" text-anchor=\"middle\" y=\"484.5\">\n",
       "    <tspan class=\"displacy-word\" fill=\"currentColor\" x=\"2500\">el</tspan>\n",
       "    <tspan class=\"displacy-tag\" dy=\"2em\" fill=\"currentColor\" x=\"2500\">DET</tspan>\n",
       "</text>\n",
       "\n",
       "<text class=\"displacy-token\" fill=\"currentColor\" text-anchor=\"middle\" y=\"484.5\">\n",
       "    <tspan class=\"displacy-word\" fill=\"currentColor\" x=\"2675\">más</tspan>\n",
       "    <tspan class=\"displacy-tag\" dy=\"2em\" fill=\"currentColor\" x=\"2675\">ADV</tspan>\n",
       "</text>\n",
       "\n",
       "<text class=\"displacy-token\" fill=\"currentColor\" text-anchor=\"middle\" y=\"484.5\">\n",
       "    <tspan class=\"displacy-word\" fill=\"currentColor\" x=\"2850\">pedregoso.</tspan>\n",
       "    <tspan class=\"displacy-tag\" dy=\"2em\" fill=\"currentColor\" x=\"2850\">ADJ</tspan>\n",
       "</text>\n",
       "\n",
       "<text class=\"displacy-token\" fill=\"currentColor\" text-anchor=\"middle\" y=\"484.5\">\n",
       "    <tspan class=\"displacy-word\" fill=\"currentColor\" x=\"3025\">Está</tspan>\n",
       "    <tspan class=\"displacy-tag\" dy=\"2em\" fill=\"currentColor\" x=\"3025\">AUX</tspan>\n",
       "</text>\n",
       "\n",
       "<text class=\"displacy-token\" fill=\"currentColor\" text-anchor=\"middle\" y=\"484.5\">\n",
       "    <tspan class=\"displacy-word\" fill=\"currentColor\" x=\"3200\">plagado</tspan>\n",
       "    <tspan class=\"displacy-tag\" dy=\"2em\" fill=\"currentColor\" x=\"3200\">ADJ</tspan>\n",
       "</text>\n",
       "\n",
       "<text class=\"displacy-token\" fill=\"currentColor\" text-anchor=\"middle\" y=\"484.5\">\n",
       "    <tspan class=\"displacy-word\" fill=\"currentColor\" x=\"3375\">de</tspan>\n",
       "    <tspan class=\"displacy-tag\" dy=\"2em\" fill=\"currentColor\" x=\"3375\">ADP</tspan>\n",
       "</text>\n",
       "\n",
       "<text class=\"displacy-token\" fill=\"currentColor\" text-anchor=\"middle\" y=\"484.5\">\n",
       "    <tspan class=\"displacy-word\" fill=\"currentColor\" x=\"3550\">esa</tspan>\n",
       "    <tspan class=\"displacy-tag\" dy=\"2em\" fill=\"currentColor\" x=\"3550\">DET</tspan>\n",
       "</text>\n",
       "\n",
       "<text class=\"displacy-token\" fill=\"currentColor\" text-anchor=\"middle\" y=\"484.5\">\n",
       "    <tspan class=\"displacy-word\" fill=\"currentColor\" x=\"3725\">piedra</tspan>\n",
       "    <tspan class=\"displacy-tag\" dy=\"2em\" fill=\"currentColor\" x=\"3725\">NOUN</tspan>\n",
       "</text>\n",
       "\n",
       "<text class=\"displacy-token\" fill=\"currentColor\" text-anchor=\"middle\" y=\"484.5\">\n",
       "    <tspan class=\"displacy-word\" fill=\"currentColor\" x=\"3900\">gris</tspan>\n",
       "    <tspan class=\"displacy-tag\" dy=\"2em\" fill=\"currentColor\" x=\"3900\">ADJ</tspan>\n",
       "</text>\n",
       "\n",
       "<text class=\"displacy-token\" fill=\"currentColor\" text-anchor=\"middle\" y=\"484.5\">\n",
       "    <tspan class=\"displacy-word\" fill=\"currentColor\" x=\"4075\">con</tspan>\n",
       "    <tspan class=\"displacy-tag\" dy=\"2em\" fill=\"currentColor\" x=\"4075\">ADP</tspan>\n",
       "</text>\n",
       "\n",
       "<text class=\"displacy-token\" fill=\"currentColor\" text-anchor=\"middle\" y=\"484.5\">\n",
       "    <tspan class=\"displacy-word\" fill=\"currentColor\" x=\"4250\">la</tspan>\n",
       "    <tspan class=\"displacy-tag\" dy=\"2em\" fill=\"currentColor\" x=\"4250\">DET</tspan>\n",
       "</text>\n",
       "\n",
       "<text class=\"displacy-token\" fill=\"currentColor\" text-anchor=\"middle\" y=\"484.5\">\n",
       "    <tspan class=\"displacy-word\" fill=\"currentColor\" x=\"4425\">que</tspan>\n",
       "    <tspan class=\"displacy-tag\" dy=\"2em\" fill=\"currentColor\" x=\"4425\">PRON</tspan>\n",
       "</text>\n",
       "\n",
       "<text class=\"displacy-token\" fill=\"currentColor\" text-anchor=\"middle\" y=\"484.5\">\n",
       "    <tspan class=\"displacy-word\" fill=\"currentColor\" x=\"4600\">hacen</tspan>\n",
       "    <tspan class=\"displacy-tag\" dy=\"2em\" fill=\"currentColor\" x=\"4600\">VERB</tspan>\n",
       "</text>\n",
       "\n",
       "<text class=\"displacy-token\" fill=\"currentColor\" text-anchor=\"middle\" y=\"484.5\">\n",
       "    <tspan class=\"displacy-word\" fill=\"currentColor\" x=\"4775\">la</tspan>\n",
       "    <tspan class=\"displacy-tag\" dy=\"2em\" fill=\"currentColor\" x=\"4775\">DET</tspan>\n",
       "</text>\n",
       "\n",
       "<text class=\"displacy-token\" fill=\"currentColor\" text-anchor=\"middle\" y=\"484.5\">\n",
       "    <tspan class=\"displacy-word\" fill=\"currentColor\" x=\"4950\">cal,</tspan>\n",
       "    <tspan class=\"displacy-tag\" dy=\"2em\" fill=\"currentColor\" x=\"4950\">NOUN</tspan>\n",
       "</text>\n",
       "\n",
       "<text class=\"displacy-token\" fill=\"currentColor\" text-anchor=\"middle\" y=\"484.5\">\n",
       "    <tspan class=\"displacy-word\" fill=\"currentColor\" x=\"5125\">pero</tspan>\n",
       "    <tspan class=\"displacy-tag\" dy=\"2em\" fill=\"currentColor\" x=\"5125\">CCONJ</tspan>\n",
       "</text>\n",
       "\n",
       "<text class=\"displacy-token\" fill=\"currentColor\" text-anchor=\"middle\" y=\"484.5\">\n",
       "    <tspan class=\"displacy-word\" fill=\"currentColor\" x=\"5300\">en</tspan>\n",
       "    <tspan class=\"displacy-tag\" dy=\"2em\" fill=\"currentColor\" x=\"5300\">ADP</tspan>\n",
       "</text>\n",
       "\n",
       "<text class=\"displacy-token\" fill=\"currentColor\" text-anchor=\"middle\" y=\"484.5\">\n",
       "    <tspan class=\"displacy-word\" fill=\"currentColor\" x=\"5475\">Luvina</tspan>\n",
       "    <tspan class=\"displacy-tag\" dy=\"2em\" fill=\"currentColor\" x=\"5475\">PROPN</tspan>\n",
       "</text>\n",
       "\n",
       "<text class=\"displacy-token\" fill=\"currentColor\" text-anchor=\"middle\" y=\"484.5\">\n",
       "    <tspan class=\"displacy-word\" fill=\"currentColor\" x=\"5650\">no</tspan>\n",
       "    <tspan class=\"displacy-tag\" dy=\"2em\" fill=\"currentColor\" x=\"5650\">ADV</tspan>\n",
       "</text>\n",
       "\n",
       "<text class=\"displacy-token\" fill=\"currentColor\" text-anchor=\"middle\" y=\"484.5\">\n",
       "    <tspan class=\"displacy-word\" fill=\"currentColor\" x=\"5825\">hacen</tspan>\n",
       "    <tspan class=\"displacy-tag\" dy=\"2em\" fill=\"currentColor\" x=\"5825\">VERB</tspan>\n",
       "</text>\n",
       "\n",
       "<text class=\"displacy-token\" fill=\"currentColor\" text-anchor=\"middle\" y=\"484.5\">\n",
       "    <tspan class=\"displacy-word\" fill=\"currentColor\" x=\"6000\">cal</tspan>\n",
       "    <tspan class=\"displacy-tag\" dy=\"2em\" fill=\"currentColor\" x=\"6000\">NOUN</tspan>\n",
       "</text>\n",
       "\n",
       "<text class=\"displacy-token\" fill=\"currentColor\" text-anchor=\"middle\" y=\"484.5\">\n",
       "    <tspan class=\"displacy-word\" fill=\"currentColor\" x=\"6175\">con</tspan>\n",
       "    <tspan class=\"displacy-tag\" dy=\"2em\" fill=\"currentColor\" x=\"6175\">ADP</tspan>\n",
       "</text>\n",
       "\n",
       "<text class=\"displacy-token\" fill=\"currentColor\" text-anchor=\"middle\" y=\"484.5\">\n",
       "    <tspan class=\"displacy-word\" fill=\"currentColor\" x=\"6350\">ella</tspan>\n",
       "    <tspan class=\"displacy-tag\" dy=\"2em\" fill=\"currentColor\" x=\"6350\">PRON</tspan>\n",
       "</text>\n",
       "\n",
       "<text class=\"displacy-token\" fill=\"currentColor\" text-anchor=\"middle\" y=\"484.5\">\n",
       "    <tspan class=\"displacy-word\" fill=\"currentColor\" x=\"6525\">ni</tspan>\n",
       "    <tspan class=\"displacy-tag\" dy=\"2em\" fill=\"currentColor\" x=\"6525\">CCONJ</tspan>\n",
       "</text>\n",
       "\n",
       "<text class=\"displacy-token\" fill=\"currentColor\" text-anchor=\"middle\" y=\"484.5\">\n",
       "    <tspan class=\"displacy-word\" fill=\"currentColor\" x=\"6700\">le</tspan>\n",
       "    <tspan class=\"displacy-tag\" dy=\"2em\" fill=\"currentColor\" x=\"6700\">PRON</tspan>\n",
       "</text>\n",
       "\n",
       "<text class=\"displacy-token\" fill=\"currentColor\" text-anchor=\"middle\" y=\"484.5\">\n",
       "    <tspan class=\"displacy-word\" fill=\"currentColor\" x=\"6875\">sacan</tspan>\n",
       "    <tspan class=\"displacy-tag\" dy=\"2em\" fill=\"currentColor\" x=\"6875\">VERB</tspan>\n",
       "</text>\n",
       "\n",
       "<text class=\"displacy-token\" fill=\"currentColor\" text-anchor=\"middle\" y=\"484.5\">\n",
       "    <tspan class=\"displacy-word\" fill=\"currentColor\" x=\"7050\">ningún</tspan>\n",
       "    <tspan class=\"displacy-tag\" dy=\"2em\" fill=\"currentColor\" x=\"7050\">DET</tspan>\n",
       "</text>\n",
       "\n",
       "<text class=\"displacy-token\" fill=\"currentColor\" text-anchor=\"middle\" y=\"484.5\">\n",
       "    <tspan class=\"displacy-word\" fill=\"currentColor\" x=\"7225\">provecho.</tspan>\n",
       "    <tspan class=\"displacy-tag\" dy=\"2em\" fill=\"currentColor\" x=\"7225\">NOUN</tspan>\n",
       "</text>\n",
       "\n",
       "<g class=\"displacy-arrow\">\n",
       "    <path class=\"displacy-arc\" id=\"arrow-967609a2aad64336a04496bdf31d27f0-0-0\" stroke-width=\"2px\" d=\"M70,439.5 C70,177.0 565.0,177.0 565.0,439.5\" fill=\"none\" stroke=\"currentColor\"/>\n",
       "    <text dy=\"1.25em\" style=\"font-size: 0.8em; letter-spacing: 1px\">\n",
       "        <textPath xlink:href=\"#arrow-967609a2aad64336a04496bdf31d27f0-0-0\" class=\"displacy-label\" startOffset=\"50%\" side=\"left\" fill=\"currentColor\" text-anchor=\"middle\">case</textPath>\n",
       "    </text>\n",
       "    <path class=\"displacy-arrowhead\" d=\"M70,441.5 L62,429.5 78,429.5\" fill=\"currentColor\"/>\n",
       "</g>\n",
       "\n",
       "<g class=\"displacy-arrow\">\n",
       "    <path class=\"displacy-arc\" id=\"arrow-967609a2aad64336a04496bdf31d27f0-0-1\" stroke-width=\"2px\" d=\"M245,439.5 C245,264.5 560.0,264.5 560.0,439.5\" fill=\"none\" stroke=\"currentColor\"/>\n",
       "    <text dy=\"1.25em\" style=\"font-size: 0.8em; letter-spacing: 1px\">\n",
       "        <textPath xlink:href=\"#arrow-967609a2aad64336a04496bdf31d27f0-0-1\" class=\"displacy-label\" startOffset=\"50%\" side=\"left\" fill=\"currentColor\" text-anchor=\"middle\">det</textPath>\n",
       "    </text>\n",
       "    <path class=\"displacy-arrowhead\" d=\"M245,441.5 L237,429.5 253,429.5\" fill=\"currentColor\"/>\n",
       "</g>\n",
       "\n",
       "<g class=\"displacy-arrow\">\n",
       "    <path class=\"displacy-arc\" id=\"arrow-967609a2aad64336a04496bdf31d27f0-0-2\" stroke-width=\"2px\" d=\"M420,439.5 C420,352.0 555.0,352.0 555.0,439.5\" fill=\"none\" stroke=\"currentColor\"/>\n",
       "    <text dy=\"1.25em\" style=\"font-size: 0.8em; letter-spacing: 1px\">\n",
       "        <textPath xlink:href=\"#arrow-967609a2aad64336a04496bdf31d27f0-0-2\" class=\"displacy-label\" startOffset=\"50%\" side=\"left\" fill=\"currentColor\" text-anchor=\"middle\">amod</textPath>\n",
       "    </text>\n",
       "    <path class=\"displacy-arrowhead\" d=\"M420,441.5 L412,429.5 428,429.5\" fill=\"currentColor\"/>\n",
       "</g>\n",
       "\n",
       "<g class=\"displacy-arrow\">\n",
       "    <path class=\"displacy-arc\" id=\"arrow-967609a2aad64336a04496bdf31d27f0-0-3\" stroke-width=\"2px\" d=\"M770,439.5 C770,352.0 905.0,352.0 905.0,439.5\" fill=\"none\" stroke=\"currentColor\"/>\n",
       "    <text dy=\"1.25em\" style=\"font-size: 0.8em; letter-spacing: 1px\">\n",
       "        <textPath xlink:href=\"#arrow-967609a2aad64336a04496bdf31d27f0-0-3\" class=\"displacy-label\" startOffset=\"50%\" side=\"left\" fill=\"currentColor\" text-anchor=\"middle\">case</textPath>\n",
       "    </text>\n",
       "    <path class=\"displacy-arrowhead\" d=\"M770,441.5 L762,429.5 778,429.5\" fill=\"currentColor\"/>\n",
       "</g>\n",
       "\n",
       "<g class=\"displacy-arrow\">\n",
       "    <path class=\"displacy-arc\" id=\"arrow-967609a2aad64336a04496bdf31d27f0-0-4\" stroke-width=\"2px\" d=\"M595,439.5 C595,264.5 910.0,264.5 910.0,439.5\" fill=\"none\" stroke=\"currentColor\"/>\n",
       "    <text dy=\"1.25em\" style=\"font-size: 0.8em; letter-spacing: 1px\">\n",
       "        <textPath xlink:href=\"#arrow-967609a2aad64336a04496bdf31d27f0-0-4\" class=\"displacy-label\" startOffset=\"50%\" side=\"left\" fill=\"currentColor\" text-anchor=\"middle\">nmod</textPath>\n",
       "    </text>\n",
       "    <path class=\"displacy-arrowhead\" d=\"M910.0,441.5 L918.0,429.5 902.0,429.5\" fill=\"currentColor\"/>\n",
       "</g>\n",
       "\n",
       "<g class=\"displacy-arrow\">\n",
       "    <path class=\"displacy-arc\" id=\"arrow-967609a2aad64336a04496bdf31d27f0-0-5\" stroke-width=\"2px\" d=\"M1120,439.5 C1120,89.5 2145.0,89.5 2145.0,439.5\" fill=\"none\" stroke=\"currentColor\"/>\n",
       "    <text dy=\"1.25em\" style=\"font-size: 0.8em; letter-spacing: 1px\">\n",
       "        <textPath xlink:href=\"#arrow-967609a2aad64336a04496bdf31d27f0-0-5\" class=\"displacy-label\" startOffset=\"50%\" side=\"left\" fill=\"currentColor\" text-anchor=\"middle\">nsubj</textPath>\n",
       "    </text>\n",
       "    <path class=\"displacy-arrowhead\" d=\"M1120,441.5 L1112,429.5 1128,429.5\" fill=\"currentColor\"/>\n",
       "</g>\n",
       "\n",
       "<g class=\"displacy-arrow\">\n",
       "    <path class=\"displacy-arc\" id=\"arrow-967609a2aad64336a04496bdf31d27f0-0-6\" stroke-width=\"2px\" d=\"M1120,439.5 C1120,352.0 1255.0,352.0 1255.0,439.5\" fill=\"none\" stroke=\"currentColor\"/>\n",
       "    <text dy=\"1.25em\" style=\"font-size: 0.8em; letter-spacing: 1px\">\n",
       "        <textPath xlink:href=\"#arrow-967609a2aad64336a04496bdf31d27f0-0-6\" class=\"displacy-label\" startOffset=\"50%\" side=\"left\" fill=\"currentColor\" text-anchor=\"middle\">case</textPath>\n",
       "    </text>\n",
       "    <path class=\"displacy-arrowhead\" d=\"M1255.0,441.5 L1263.0,429.5 1247.0,429.5\" fill=\"currentColor\"/>\n",
       "</g>\n",
       "\n",
       "<g class=\"displacy-arrow\">\n",
       "    <path class=\"displacy-arc\" id=\"arrow-967609a2aad64336a04496bdf31d27f0-0-7\" stroke-width=\"2px\" d=\"M1120,439.5 C1120,264.5 1435.0,264.5 1435.0,439.5\" fill=\"none\" stroke=\"currentColor\"/>\n",
       "    <text dy=\"1.25em\" style=\"font-size: 0.8em; letter-spacing: 1px\">\n",
       "        <textPath xlink:href=\"#arrow-967609a2aad64336a04496bdf31d27f0-0-7\" class=\"displacy-label\" startOffset=\"50%\" side=\"left\" fill=\"currentColor\" text-anchor=\"middle\">nmod</textPath>\n",
       "    </text>\n",
       "    <path class=\"displacy-arrowhead\" d=\"M1435.0,441.5 L1443.0,429.5 1427.0,429.5\" fill=\"currentColor\"/>\n",
       "</g>\n",
       "\n",
       "<g class=\"displacy-arrow\">\n",
       "    <path class=\"displacy-arc\" id=\"arrow-967609a2aad64336a04496bdf31d27f0-0-8\" stroke-width=\"2px\" d=\"M1645,439.5 C1645,177.0 2140.0,177.0 2140.0,439.5\" fill=\"none\" stroke=\"currentColor\"/>\n",
       "    <text dy=\"1.25em\" style=\"font-size: 0.8em; letter-spacing: 1px\">\n",
       "        <textPath xlink:href=\"#arrow-967609a2aad64336a04496bdf31d27f0-0-8\" class=\"displacy-label\" startOffset=\"50%\" side=\"left\" fill=\"currentColor\" text-anchor=\"middle\">cop</textPath>\n",
       "    </text>\n",
       "    <path class=\"displacy-arrowhead\" d=\"M1645,441.5 L1637,429.5 1653,429.5\" fill=\"currentColor\"/>\n",
       "</g>\n",
       "\n",
       "<g class=\"displacy-arrow\">\n",
       "    <path class=\"displacy-arc\" id=\"arrow-967609a2aad64336a04496bdf31d27f0-0-9\" stroke-width=\"2px\" d=\"M1820,439.5 C1820,264.5 2135.0,264.5 2135.0,439.5\" fill=\"none\" stroke=\"currentColor\"/>\n",
       "    <text dy=\"1.25em\" style=\"font-size: 0.8em; letter-spacing: 1px\">\n",
       "        <textPath xlink:href=\"#arrow-967609a2aad64336a04496bdf31d27f0-0-9\" class=\"displacy-label\" startOffset=\"50%\" side=\"left\" fill=\"currentColor\" text-anchor=\"middle\">det</textPath>\n",
       "    </text>\n",
       "    <path class=\"displacy-arrowhead\" d=\"M1820,441.5 L1812,429.5 1828,429.5\" fill=\"currentColor\"/>\n",
       "</g>\n",
       "\n",
       "<g class=\"displacy-arrow\">\n",
       "    <path class=\"displacy-arc\" id=\"arrow-967609a2aad64336a04496bdf31d27f0-0-10\" stroke-width=\"2px\" d=\"M1995,439.5 C1995,352.0 2130.0,352.0 2130.0,439.5\" fill=\"none\" stroke=\"currentColor\"/>\n",
       "    <text dy=\"1.25em\" style=\"font-size: 0.8em; letter-spacing: 1px\">\n",
       "        <textPath xlink:href=\"#arrow-967609a2aad64336a04496bdf31d27f0-0-10\" class=\"displacy-label\" startOffset=\"50%\" side=\"left\" fill=\"currentColor\" text-anchor=\"middle\">advmod</textPath>\n",
       "    </text>\n",
       "    <path class=\"displacy-arrowhead\" d=\"M1995,441.5 L1987,429.5 2003,429.5\" fill=\"currentColor\"/>\n",
       "</g>\n",
       "\n",
       "<g class=\"displacy-arrow\">\n",
       "    <path class=\"displacy-arc\" id=\"arrow-967609a2aad64336a04496bdf31d27f0-0-11\" stroke-width=\"2px\" d=\"M595,439.5 C595,2.0 2150.0,2.0 2150.0,439.5\" fill=\"none\" stroke=\"currentColor\"/>\n",
       "    <text dy=\"1.25em\" style=\"font-size: 0.8em; letter-spacing: 1px\">\n",
       "        <textPath xlink:href=\"#arrow-967609a2aad64336a04496bdf31d27f0-0-11\" class=\"displacy-label\" startOffset=\"50%\" side=\"left\" fill=\"currentColor\" text-anchor=\"middle\">amod</textPath>\n",
       "    </text>\n",
       "    <path class=\"displacy-arrowhead\" d=\"M2150.0,441.5 L2158.0,429.5 2142.0,429.5\" fill=\"currentColor\"/>\n",
       "</g>\n",
       "\n",
       "<g class=\"displacy-arrow\">\n",
       "    <path class=\"displacy-arc\" id=\"arrow-967609a2aad64336a04496bdf31d27f0-0-12\" stroke-width=\"2px\" d=\"M2345,439.5 C2345,177.0 2840.0,177.0 2840.0,439.5\" fill=\"none\" stroke=\"currentColor\"/>\n",
       "    <text dy=\"1.25em\" style=\"font-size: 0.8em; letter-spacing: 1px\">\n",
       "        <textPath xlink:href=\"#arrow-967609a2aad64336a04496bdf31d27f0-0-12\" class=\"displacy-label\" startOffset=\"50%\" side=\"left\" fill=\"currentColor\" text-anchor=\"middle\">cc</textPath>\n",
       "    </text>\n",
       "    <path class=\"displacy-arrowhead\" d=\"M2345,441.5 L2337,429.5 2353,429.5\" fill=\"currentColor\"/>\n",
       "</g>\n",
       "\n",
       "<g class=\"displacy-arrow\">\n",
       "    <path class=\"displacy-arc\" id=\"arrow-967609a2aad64336a04496bdf31d27f0-0-13\" stroke-width=\"2px\" d=\"M2520,439.5 C2520,264.5 2835.0,264.5 2835.0,439.5\" fill=\"none\" stroke=\"currentColor\"/>\n",
       "    <text dy=\"1.25em\" style=\"font-size: 0.8em; letter-spacing: 1px\">\n",
       "        <textPath xlink:href=\"#arrow-967609a2aad64336a04496bdf31d27f0-0-13\" class=\"displacy-label\" startOffset=\"50%\" side=\"left\" fill=\"currentColor\" text-anchor=\"middle\">det</textPath>\n",
       "    </text>\n",
       "    <path class=\"displacy-arrowhead\" d=\"M2520,441.5 L2512,429.5 2528,429.5\" fill=\"currentColor\"/>\n",
       "</g>\n",
       "\n",
       "<g class=\"displacy-arrow\">\n",
       "    <path class=\"displacy-arc\" id=\"arrow-967609a2aad64336a04496bdf31d27f0-0-14\" stroke-width=\"2px\" d=\"M2695,439.5 C2695,352.0 2830.0,352.0 2830.0,439.5\" fill=\"none\" stroke=\"currentColor\"/>\n",
       "    <text dy=\"1.25em\" style=\"font-size: 0.8em; letter-spacing: 1px\">\n",
       "        <textPath xlink:href=\"#arrow-967609a2aad64336a04496bdf31d27f0-0-14\" class=\"displacy-label\" startOffset=\"50%\" side=\"left\" fill=\"currentColor\" text-anchor=\"middle\">advmod</textPath>\n",
       "    </text>\n",
       "    <path class=\"displacy-arrowhead\" d=\"M2695,441.5 L2687,429.5 2703,429.5\" fill=\"currentColor\"/>\n",
       "</g>\n",
       "\n",
       "<g class=\"displacy-arrow\">\n",
       "    <path class=\"displacy-arc\" id=\"arrow-967609a2aad64336a04496bdf31d27f0-0-15\" stroke-width=\"2px\" d=\"M2170,439.5 C2170,89.5 2845.0,89.5 2845.0,439.5\" fill=\"none\" stroke=\"currentColor\"/>\n",
       "    <text dy=\"1.25em\" style=\"font-size: 0.8em; letter-spacing: 1px\">\n",
       "        <textPath xlink:href=\"#arrow-967609a2aad64336a04496bdf31d27f0-0-15\" class=\"displacy-label\" startOffset=\"50%\" side=\"left\" fill=\"currentColor\" text-anchor=\"middle\">conj</textPath>\n",
       "    </text>\n",
       "    <path class=\"displacy-arrowhead\" d=\"M2845.0,441.5 L2853.0,429.5 2837.0,429.5\" fill=\"currentColor\"/>\n",
       "</g>\n",
       "\n",
       "<g class=\"displacy-arrow\">\n",
       "    <path class=\"displacy-arc\" id=\"arrow-967609a2aad64336a04496bdf31d27f0-0-16\" stroke-width=\"2px\" d=\"M3045,439.5 C3045,352.0 3180.0,352.0 3180.0,439.5\" fill=\"none\" stroke=\"currentColor\"/>\n",
       "    <text dy=\"1.25em\" style=\"font-size: 0.8em; letter-spacing: 1px\">\n",
       "        <textPath xlink:href=\"#arrow-967609a2aad64336a04496bdf31d27f0-0-16\" class=\"displacy-label\" startOffset=\"50%\" side=\"left\" fill=\"currentColor\" text-anchor=\"middle\">cop</textPath>\n",
       "    </text>\n",
       "    <path class=\"displacy-arrowhead\" d=\"M3045,441.5 L3037,429.5 3053,429.5\" fill=\"currentColor\"/>\n",
       "</g>\n",
       "\n",
       "<g class=\"displacy-arrow\">\n",
       "    <path class=\"displacy-arc\" id=\"arrow-967609a2aad64336a04496bdf31d27f0-0-17\" stroke-width=\"2px\" d=\"M3395,439.5 C3395,264.5 3710.0,264.5 3710.0,439.5\" fill=\"none\" stroke=\"currentColor\"/>\n",
       "    <text dy=\"1.25em\" style=\"font-size: 0.8em; letter-spacing: 1px\">\n",
       "        <textPath xlink:href=\"#arrow-967609a2aad64336a04496bdf31d27f0-0-17\" class=\"displacy-label\" startOffset=\"50%\" side=\"left\" fill=\"currentColor\" text-anchor=\"middle\">case</textPath>\n",
       "    </text>\n",
       "    <path class=\"displacy-arrowhead\" d=\"M3395,441.5 L3387,429.5 3403,429.5\" fill=\"currentColor\"/>\n",
       "</g>\n",
       "\n",
       "<g class=\"displacy-arrow\">\n",
       "    <path class=\"displacy-arc\" id=\"arrow-967609a2aad64336a04496bdf31d27f0-0-18\" stroke-width=\"2px\" d=\"M3570,439.5 C3570,352.0 3705.0,352.0 3705.0,439.5\" fill=\"none\" stroke=\"currentColor\"/>\n",
       "    <text dy=\"1.25em\" style=\"font-size: 0.8em; letter-spacing: 1px\">\n",
       "        <textPath xlink:href=\"#arrow-967609a2aad64336a04496bdf31d27f0-0-18\" class=\"displacy-label\" startOffset=\"50%\" side=\"left\" fill=\"currentColor\" text-anchor=\"middle\">det</textPath>\n",
       "    </text>\n",
       "    <path class=\"displacy-arrowhead\" d=\"M3570,441.5 L3562,429.5 3578,429.5\" fill=\"currentColor\"/>\n",
       "</g>\n",
       "\n",
       "<g class=\"displacy-arrow\">\n",
       "    <path class=\"displacy-arc\" id=\"arrow-967609a2aad64336a04496bdf31d27f0-0-19\" stroke-width=\"2px\" d=\"M3220,439.5 C3220,177.0 3715.0,177.0 3715.0,439.5\" fill=\"none\" stroke=\"currentColor\"/>\n",
       "    <text dy=\"1.25em\" style=\"font-size: 0.8em; letter-spacing: 1px\">\n",
       "        <textPath xlink:href=\"#arrow-967609a2aad64336a04496bdf31d27f0-0-19\" class=\"displacy-label\" startOffset=\"50%\" side=\"left\" fill=\"currentColor\" text-anchor=\"middle\">obj</textPath>\n",
       "    </text>\n",
       "    <path class=\"displacy-arrowhead\" d=\"M3715.0,441.5 L3723.0,429.5 3707.0,429.5\" fill=\"currentColor\"/>\n",
       "</g>\n",
       "\n",
       "<g class=\"displacy-arrow\">\n",
       "    <path class=\"displacy-arc\" id=\"arrow-967609a2aad64336a04496bdf31d27f0-0-20\" stroke-width=\"2px\" d=\"M3745,439.5 C3745,352.0 3880.0,352.0 3880.0,439.5\" fill=\"none\" stroke=\"currentColor\"/>\n",
       "    <text dy=\"1.25em\" style=\"font-size: 0.8em; letter-spacing: 1px\">\n",
       "        <textPath xlink:href=\"#arrow-967609a2aad64336a04496bdf31d27f0-0-20\" class=\"displacy-label\" startOffset=\"50%\" side=\"left\" fill=\"currentColor\" text-anchor=\"middle\">amod</textPath>\n",
       "    </text>\n",
       "    <path class=\"displacy-arrowhead\" d=\"M3880.0,441.5 L3888.0,429.5 3872.0,429.5\" fill=\"currentColor\"/>\n",
       "</g>\n",
       "\n",
       "<g class=\"displacy-arrow\">\n",
       "    <path class=\"displacy-arc\" id=\"arrow-967609a2aad64336a04496bdf31d27f0-0-21\" stroke-width=\"2px\" d=\"M4095,439.5 C4095,264.5 4410.0,264.5 4410.0,439.5\" fill=\"none\" stroke=\"currentColor\"/>\n",
       "    <text dy=\"1.25em\" style=\"font-size: 0.8em; letter-spacing: 1px\">\n",
       "        <textPath xlink:href=\"#arrow-967609a2aad64336a04496bdf31d27f0-0-21\" class=\"displacy-label\" startOffset=\"50%\" side=\"left\" fill=\"currentColor\" text-anchor=\"middle\">case</textPath>\n",
       "    </text>\n",
       "    <path class=\"displacy-arrowhead\" d=\"M4095,441.5 L4087,429.5 4103,429.5\" fill=\"currentColor\"/>\n",
       "</g>\n",
       "\n",
       "<g class=\"displacy-arrow\">\n",
       "    <path class=\"displacy-arc\" id=\"arrow-967609a2aad64336a04496bdf31d27f0-0-22\" stroke-width=\"2px\" d=\"M4270,439.5 C4270,352.0 4405.0,352.0 4405.0,439.5\" fill=\"none\" stroke=\"currentColor\"/>\n",
       "    <text dy=\"1.25em\" style=\"font-size: 0.8em; letter-spacing: 1px\">\n",
       "        <textPath xlink:href=\"#arrow-967609a2aad64336a04496bdf31d27f0-0-22\" class=\"displacy-label\" startOffset=\"50%\" side=\"left\" fill=\"currentColor\" text-anchor=\"middle\">det</textPath>\n",
       "    </text>\n",
       "    <path class=\"displacy-arrowhead\" d=\"M4270,441.5 L4262,429.5 4278,429.5\" fill=\"currentColor\"/>\n",
       "</g>\n",
       "\n",
       "<g class=\"displacy-arrow\">\n",
       "    <path class=\"displacy-arc\" id=\"arrow-967609a2aad64336a04496bdf31d27f0-0-23\" stroke-width=\"2px\" d=\"M4445,439.5 C4445,352.0 4580.0,352.0 4580.0,439.5\" fill=\"none\" stroke=\"currentColor\"/>\n",
       "    <text dy=\"1.25em\" style=\"font-size: 0.8em; letter-spacing: 1px\">\n",
       "        <textPath xlink:href=\"#arrow-967609a2aad64336a04496bdf31d27f0-0-23\" class=\"displacy-label\" startOffset=\"50%\" side=\"left\" fill=\"currentColor\" text-anchor=\"middle\">obl</textPath>\n",
       "    </text>\n",
       "    <path class=\"displacy-arrowhead\" d=\"M4445,441.5 L4437,429.5 4453,429.5\" fill=\"currentColor\"/>\n",
       "</g>\n",
       "\n",
       "<g class=\"displacy-arrow\">\n",
       "    <path class=\"displacy-arc\" id=\"arrow-967609a2aad64336a04496bdf31d27f0-0-24\" stroke-width=\"2px\" d=\"M3745,439.5 C3745,177.0 4590.0,177.0 4590.0,439.5\" fill=\"none\" stroke=\"currentColor\"/>\n",
       "    <text dy=\"1.25em\" style=\"font-size: 0.8em; letter-spacing: 1px\">\n",
       "        <textPath xlink:href=\"#arrow-967609a2aad64336a04496bdf31d27f0-0-24\" class=\"displacy-label\" startOffset=\"50%\" side=\"left\" fill=\"currentColor\" text-anchor=\"middle\">acl</textPath>\n",
       "    </text>\n",
       "    <path class=\"displacy-arrowhead\" d=\"M4590.0,441.5 L4598.0,429.5 4582.0,429.5\" fill=\"currentColor\"/>\n",
       "</g>\n",
       "\n",
       "<g class=\"displacy-arrow\">\n",
       "    <path class=\"displacy-arc\" id=\"arrow-967609a2aad64336a04496bdf31d27f0-0-25\" stroke-width=\"2px\" d=\"M4795,439.5 C4795,352.0 4930.0,352.0 4930.0,439.5\" fill=\"none\" stroke=\"currentColor\"/>\n",
       "    <text dy=\"1.25em\" style=\"font-size: 0.8em; letter-spacing: 1px\">\n",
       "        <textPath xlink:href=\"#arrow-967609a2aad64336a04496bdf31d27f0-0-25\" class=\"displacy-label\" startOffset=\"50%\" side=\"left\" fill=\"currentColor\" text-anchor=\"middle\">det</textPath>\n",
       "    </text>\n",
       "    <path class=\"displacy-arrowhead\" d=\"M4795,441.5 L4787,429.5 4803,429.5\" fill=\"currentColor\"/>\n",
       "</g>\n",
       "\n",
       "<g class=\"displacy-arrow\">\n",
       "    <path class=\"displacy-arc\" id=\"arrow-967609a2aad64336a04496bdf31d27f0-0-26\" stroke-width=\"2px\" d=\"M4620,439.5 C4620,264.5 4935.0,264.5 4935.0,439.5\" fill=\"none\" stroke=\"currentColor\"/>\n",
       "    <text dy=\"1.25em\" style=\"font-size: 0.8em; letter-spacing: 1px\">\n",
       "        <textPath xlink:href=\"#arrow-967609a2aad64336a04496bdf31d27f0-0-26\" class=\"displacy-label\" startOffset=\"50%\" side=\"left\" fill=\"currentColor\" text-anchor=\"middle\">nsubj</textPath>\n",
       "    </text>\n",
       "    <path class=\"displacy-arrowhead\" d=\"M4935.0,441.5 L4943.0,429.5 4927.0,429.5\" fill=\"currentColor\"/>\n",
       "</g>\n",
       "\n",
       "<g class=\"displacy-arrow\">\n",
       "    <path class=\"displacy-arc\" id=\"arrow-967609a2aad64336a04496bdf31d27f0-0-27\" stroke-width=\"2px\" d=\"M5145,439.5 C5145,177.0 5815.0,177.0 5815.0,439.5\" fill=\"none\" stroke=\"currentColor\"/>\n",
       "    <text dy=\"1.25em\" style=\"font-size: 0.8em; letter-spacing: 1px\">\n",
       "        <textPath xlink:href=\"#arrow-967609a2aad64336a04496bdf31d27f0-0-27\" class=\"displacy-label\" startOffset=\"50%\" side=\"left\" fill=\"currentColor\" text-anchor=\"middle\">cc</textPath>\n",
       "    </text>\n",
       "    <path class=\"displacy-arrowhead\" d=\"M5145,441.5 L5137,429.5 5153,429.5\" fill=\"currentColor\"/>\n",
       "</g>\n",
       "\n",
       "<g class=\"displacy-arrow\">\n",
       "    <path class=\"displacy-arc\" id=\"arrow-967609a2aad64336a04496bdf31d27f0-0-28\" stroke-width=\"2px\" d=\"M5320,439.5 C5320,352.0 5455.0,352.0 5455.0,439.5\" fill=\"none\" stroke=\"currentColor\"/>\n",
       "    <text dy=\"1.25em\" style=\"font-size: 0.8em; letter-spacing: 1px\">\n",
       "        <textPath xlink:href=\"#arrow-967609a2aad64336a04496bdf31d27f0-0-28\" class=\"displacy-label\" startOffset=\"50%\" side=\"left\" fill=\"currentColor\" text-anchor=\"middle\">case</textPath>\n",
       "    </text>\n",
       "    <path class=\"displacy-arrowhead\" d=\"M5320,441.5 L5312,429.5 5328,429.5\" fill=\"currentColor\"/>\n",
       "</g>\n",
       "\n",
       "<g class=\"displacy-arrow\">\n",
       "    <path class=\"displacy-arc\" id=\"arrow-967609a2aad64336a04496bdf31d27f0-0-29\" stroke-width=\"2px\" d=\"M5495,439.5 C5495,264.5 5810.0,264.5 5810.0,439.5\" fill=\"none\" stroke=\"currentColor\"/>\n",
       "    <text dy=\"1.25em\" style=\"font-size: 0.8em; letter-spacing: 1px\">\n",
       "        <textPath xlink:href=\"#arrow-967609a2aad64336a04496bdf31d27f0-0-29\" class=\"displacy-label\" startOffset=\"50%\" side=\"left\" fill=\"currentColor\" text-anchor=\"middle\">obl</textPath>\n",
       "    </text>\n",
       "    <path class=\"displacy-arrowhead\" d=\"M5495,441.5 L5487,429.5 5503,429.5\" fill=\"currentColor\"/>\n",
       "</g>\n",
       "\n",
       "<g class=\"displacy-arrow\">\n",
       "    <path class=\"displacy-arc\" id=\"arrow-967609a2aad64336a04496bdf31d27f0-0-30\" stroke-width=\"2px\" d=\"M5670,439.5 C5670,352.0 5805.0,352.0 5805.0,439.5\" fill=\"none\" stroke=\"currentColor\"/>\n",
       "    <text dy=\"1.25em\" style=\"font-size: 0.8em; letter-spacing: 1px\">\n",
       "        <textPath xlink:href=\"#arrow-967609a2aad64336a04496bdf31d27f0-0-30\" class=\"displacy-label\" startOffset=\"50%\" side=\"left\" fill=\"currentColor\" text-anchor=\"middle\">advmod</textPath>\n",
       "    </text>\n",
       "    <path class=\"displacy-arrowhead\" d=\"M5670,441.5 L5662,429.5 5678,429.5\" fill=\"currentColor\"/>\n",
       "</g>\n",
       "\n",
       "<g class=\"displacy-arrow\">\n",
       "    <path class=\"displacy-arc\" id=\"arrow-967609a2aad64336a04496bdf31d27f0-0-31\" stroke-width=\"2px\" d=\"M3220,439.5 C3220,89.5 5820.0,89.5 5820.0,439.5\" fill=\"none\" stroke=\"currentColor\"/>\n",
       "    <text dy=\"1.25em\" style=\"font-size: 0.8em; letter-spacing: 1px\">\n",
       "        <textPath xlink:href=\"#arrow-967609a2aad64336a04496bdf31d27f0-0-31\" class=\"displacy-label\" startOffset=\"50%\" side=\"left\" fill=\"currentColor\" text-anchor=\"middle\">conj</textPath>\n",
       "    </text>\n",
       "    <path class=\"displacy-arrowhead\" d=\"M5820.0,441.5 L5828.0,429.5 5812.0,429.5\" fill=\"currentColor\"/>\n",
       "</g>\n",
       "\n",
       "<g class=\"displacy-arrow\">\n",
       "    <path class=\"displacy-arc\" id=\"arrow-967609a2aad64336a04496bdf31d27f0-0-32\" stroke-width=\"2px\" d=\"M5845,439.5 C5845,352.0 5980.0,352.0 5980.0,439.5\" fill=\"none\" stroke=\"currentColor\"/>\n",
       "    <text dy=\"1.25em\" style=\"font-size: 0.8em; letter-spacing: 1px\">\n",
       "        <textPath xlink:href=\"#arrow-967609a2aad64336a04496bdf31d27f0-0-32\" class=\"displacy-label\" startOffset=\"50%\" side=\"left\" fill=\"currentColor\" text-anchor=\"middle\">obj</textPath>\n",
       "    </text>\n",
       "    <path class=\"displacy-arrowhead\" d=\"M5980.0,441.5 L5988.0,429.5 5972.0,429.5\" fill=\"currentColor\"/>\n",
       "</g>\n",
       "\n",
       "<g class=\"displacy-arrow\">\n",
       "    <path class=\"displacy-arc\" id=\"arrow-967609a2aad64336a04496bdf31d27f0-0-33\" stroke-width=\"2px\" d=\"M6195,439.5 C6195,352.0 6330.0,352.0 6330.0,439.5\" fill=\"none\" stroke=\"currentColor\"/>\n",
       "    <text dy=\"1.25em\" style=\"font-size: 0.8em; letter-spacing: 1px\">\n",
       "        <textPath xlink:href=\"#arrow-967609a2aad64336a04496bdf31d27f0-0-33\" class=\"displacy-label\" startOffset=\"50%\" side=\"left\" fill=\"currentColor\" text-anchor=\"middle\">case</textPath>\n",
       "    </text>\n",
       "    <path class=\"displacy-arrowhead\" d=\"M6195,441.5 L6187,429.5 6203,429.5\" fill=\"currentColor\"/>\n",
       "</g>\n",
       "\n",
       "<g class=\"displacy-arrow\">\n",
       "    <path class=\"displacy-arc\" id=\"arrow-967609a2aad64336a04496bdf31d27f0-0-34\" stroke-width=\"2px\" d=\"M5845,439.5 C5845,264.5 6335.0,264.5 6335.0,439.5\" fill=\"none\" stroke=\"currentColor\"/>\n",
       "    <text dy=\"1.25em\" style=\"font-size: 0.8em; letter-spacing: 1px\">\n",
       "        <textPath xlink:href=\"#arrow-967609a2aad64336a04496bdf31d27f0-0-34\" class=\"displacy-label\" startOffset=\"50%\" side=\"left\" fill=\"currentColor\" text-anchor=\"middle\">obl</textPath>\n",
       "    </text>\n",
       "    <path class=\"displacy-arrowhead\" d=\"M6335.0,441.5 L6343.0,429.5 6327.0,429.5\" fill=\"currentColor\"/>\n",
       "</g>\n",
       "\n",
       "<g class=\"displacy-arrow\">\n",
       "    <path class=\"displacy-arc\" id=\"arrow-967609a2aad64336a04496bdf31d27f0-0-35\" stroke-width=\"2px\" d=\"M6545,439.5 C6545,264.5 6860.0,264.5 6860.0,439.5\" fill=\"none\" stroke=\"currentColor\"/>\n",
       "    <text dy=\"1.25em\" style=\"font-size: 0.8em; letter-spacing: 1px\">\n",
       "        <textPath xlink:href=\"#arrow-967609a2aad64336a04496bdf31d27f0-0-35\" class=\"displacy-label\" startOffset=\"50%\" side=\"left\" fill=\"currentColor\" text-anchor=\"middle\">cc</textPath>\n",
       "    </text>\n",
       "    <path class=\"displacy-arrowhead\" d=\"M6545,441.5 L6537,429.5 6553,429.5\" fill=\"currentColor\"/>\n",
       "</g>\n",
       "\n",
       "<g class=\"displacy-arrow\">\n",
       "    <path class=\"displacy-arc\" id=\"arrow-967609a2aad64336a04496bdf31d27f0-0-36\" stroke-width=\"2px\" d=\"M6720,439.5 C6720,352.0 6855.0,352.0 6855.0,439.5\" fill=\"none\" stroke=\"currentColor\"/>\n",
       "    <text dy=\"1.25em\" style=\"font-size: 0.8em; letter-spacing: 1px\">\n",
       "        <textPath xlink:href=\"#arrow-967609a2aad64336a04496bdf31d27f0-0-36\" class=\"displacy-label\" startOffset=\"50%\" side=\"left\" fill=\"currentColor\" text-anchor=\"middle\">obj</textPath>\n",
       "    </text>\n",
       "    <path class=\"displacy-arrowhead\" d=\"M6720,441.5 L6712,429.5 6728,429.5\" fill=\"currentColor\"/>\n",
       "</g>\n",
       "\n",
       "<g class=\"displacy-arrow\">\n",
       "    <path class=\"displacy-arc\" id=\"arrow-967609a2aad64336a04496bdf31d27f0-0-37\" stroke-width=\"2px\" d=\"M5845,439.5 C5845,177.0 6865.0,177.0 6865.0,439.5\" fill=\"none\" stroke=\"currentColor\"/>\n",
       "    <text dy=\"1.25em\" style=\"font-size: 0.8em; letter-spacing: 1px\">\n",
       "        <textPath xlink:href=\"#arrow-967609a2aad64336a04496bdf31d27f0-0-37\" class=\"displacy-label\" startOffset=\"50%\" side=\"left\" fill=\"currentColor\" text-anchor=\"middle\">conj</textPath>\n",
       "    </text>\n",
       "    <path class=\"displacy-arrowhead\" d=\"M6865.0,441.5 L6873.0,429.5 6857.0,429.5\" fill=\"currentColor\"/>\n",
       "</g>\n",
       "\n",
       "<g class=\"displacy-arrow\">\n",
       "    <path class=\"displacy-arc\" id=\"arrow-967609a2aad64336a04496bdf31d27f0-0-38\" stroke-width=\"2px\" d=\"M7070,439.5 C7070,352.0 7205.0,352.0 7205.0,439.5\" fill=\"none\" stroke=\"currentColor\"/>\n",
       "    <text dy=\"1.25em\" style=\"font-size: 0.8em; letter-spacing: 1px\">\n",
       "        <textPath xlink:href=\"#arrow-967609a2aad64336a04496bdf31d27f0-0-38\" class=\"displacy-label\" startOffset=\"50%\" side=\"left\" fill=\"currentColor\" text-anchor=\"middle\">det</textPath>\n",
       "    </text>\n",
       "    <path class=\"displacy-arrowhead\" d=\"M7070,441.5 L7062,429.5 7078,429.5\" fill=\"currentColor\"/>\n",
       "</g>\n",
       "\n",
       "<g class=\"displacy-arrow\">\n",
       "    <path class=\"displacy-arc\" id=\"arrow-967609a2aad64336a04496bdf31d27f0-0-39\" stroke-width=\"2px\" d=\"M6895,439.5 C6895,264.5 7210.0,264.5 7210.0,439.5\" fill=\"none\" stroke=\"currentColor\"/>\n",
       "    <text dy=\"1.25em\" style=\"font-size: 0.8em; letter-spacing: 1px\">\n",
       "        <textPath xlink:href=\"#arrow-967609a2aad64336a04496bdf31d27f0-0-39\" class=\"displacy-label\" startOffset=\"50%\" side=\"left\" fill=\"currentColor\" text-anchor=\"middle\">nsubj</textPath>\n",
       "    </text>\n",
       "    <path class=\"displacy-arrowhead\" d=\"M7210.0,441.5 L7218.0,429.5 7202.0,429.5\" fill=\"currentColor\"/>\n",
       "</g>\n",
       "</svg></span>"
      ],
      "text/plain": [
       "<IPython.core.display.HTML object>"
      ]
     },
     "metadata": {},
     "output_type": "display_data"
    }
   ],
   "source": [
    "displacy.render(doc, style=\"dep\")"
   ]
  },
  {
   "cell_type": "code",
   "execution_count": 17,
   "metadata": {},
   "outputs": [
    {
     "data": {
      "text/html": [
       "<span class=\"tex2jax_ignore\"><div class=\"entities\" style=\"line-height: 2.5; direction: ltr\">De los cerros altos del sur, el de \n",
       "<mark class=\"entity\" style=\"background: #ff9561; padding: 0.45em 0.6em; margin: 0 0.25em; line-height: 1; border-radius: 0.35em;\">\n",
       "    Luvina\n",
       "    <span style=\"font-size: 0.8em; font-weight: bold; line-height: 1; border-radius: 0.35em; vertical-align: middle; margin-left: 0.5rem\">LOC</span>\n",
       "</mark>\n",
       " es el más alto y el más pedregoso. \n",
       "<mark class=\"entity\" style=\"background: #ddd; padding: 0.45em 0.6em; margin: 0 0.25em; line-height: 1; border-radius: 0.35em;\">\n",
       "    Está\n",
       "    <span style=\"font-size: 0.8em; font-weight: bold; line-height: 1; border-radius: 0.35em; vertical-align: middle; margin-left: 0.5rem\">PER</span>\n",
       "</mark>\n",
       " plagado de esa piedra gris con la que hacen la cal, pero en \n",
       "<mark class=\"entity\" style=\"background: #ff9561; padding: 0.45em 0.6em; margin: 0 0.25em; line-height: 1; border-radius: 0.35em;\">\n",
       "    Luvina\n",
       "    <span style=\"font-size: 0.8em; font-weight: bold; line-height: 1; border-radius: 0.35em; vertical-align: middle; margin-left: 0.5rem\">LOC</span>\n",
       "</mark>\n",
       " no hacen cal con ella ni le sacan ningún provecho.</div></span>"
      ],
      "text/plain": [
       "<IPython.core.display.HTML object>"
      ]
     },
     "metadata": {},
     "output_type": "display_data"
    }
   ],
   "source": [
    "#detencion de identidades (lugares, fechas etc)\n",
    "displacy.render(doc, style=\"ent\")"
   ]
  },
  {
   "cell_type": "code",
   "execution_count": 18,
   "metadata": {},
   "outputs": [],
   "source": [
    "import xmltodict  \n",
    "import json \n",
    "import pandas as pd\n",
    "import re"
   ]
  },
  {
   "cell_type": "code",
   "execution_count": 19,
   "metadata": {},
   "outputs": [],
   "source": [
    "with open(\"TASS2019_country_CR_train.xml\", encoding=\"utf8\") as xml_file:\n",
    "    data_dict = xmltodict.parse(xml_file.read())\n",
    "xml_file.close()"
   ]
  },
  {
   "cell_type": "code",
   "execution_count": 20,
   "metadata": {},
   "outputs": [],
   "source": [
    "#abriendo un json\n",
    "\n",
    "json_data = json.dumps(data_dict)\n",
    "with open (\"TASS2019_country_CR_train.json\", \"w\") as json_file:\n",
    "    json_file.write(json_data)\n",
    "json_file.close()"
   ]
  },
  {
   "cell_type": "code",
   "execution_count": 21,
   "metadata": {},
   "outputs": [],
   "source": [
    "#limpieza de datos \n",
    "fin = open(\"TASS2019_country_CR_train.json\", \"rt\")"
   ]
  },
  {
   "cell_type": "code",
   "execution_count": 22,
   "metadata": {},
   "outputs": [],
   "source": [
    "fout = open(\"TASS2019_country_CR_train-sintilde.json\", \"wt\")\n",
    "#Procesamiento de lìneas del archivo\n",
    "for line in fin:\n",
    "\t#Reemplazar los caracteres unicode, no se dejaron tildes porque causan error\n",
    "    strtmp1 = line.replace('\\\\u00f1', 'ñ')\n",
    "    strtmp1 = strtmp1.replace('\\\\u00e1', 'a')\n",
    "    strtmp1 = strtmp1.replace('\\\\u00e9', 'e')\n",
    "    strtmp1 = strtmp1.replace('\\\\u00ed', 'i')\n",
    "    strtmp1 = strtmp1.replace('\\\\u00f3', 'o')\n",
    "    strtmp1 = strtmp1.replace('\\\\u00fa', 'u')\n",
    "    strtmp1 = strtmp1.replace('\\\\u00bf', '¿')\n",
    "    strtmp1 = strtmp1.replace('\\\\u00a1', '¡')\n",
    "    strtmp1 = strtmp1.replace('\\\\u00d1', 'Ñ')\n",
    "    strtmp1 = strtmp1.replace('\\\\u00c1', 'A')\n",
    "    strtmp1 = strtmp1.replace('\\\\u00c9', 'E')\n",
    "    strtmp1 = strtmp1.replace('\\\\u00cd', 'I')\n",
    "    strtmp1 = strtmp1.replace('\\\\u00d3', 'O')\n",
    "    strtmp1 = strtmp1.replace('\\\\u00da', 'U')\n",
    "    strtmp1 = strtmp1.replace('\\\\u00fc', 'ü')\n",
    "    strtmp1 = strtmp1.replace('\\\\u00b0', '')\n",
    "    #Quitar el inicio y el fin del json para dejar solo los tweets\n",
    "    strtmp1 = strtmp1.replace('{\"tweets\": {\"tweet\": ', '')\n",
    "    strtmp1 = strtmp1.replace(']}}', ']')\n",
    "    #Quitar el diccionario que contiene la polaridad y dejarla solo con su valor de sentimiento\n",
    "    strtmp1 = strtmp1.replace('\"sentiment\": {\"polarity\": {\"value\": ', '\"sentiment\": ')\n",
    "    strtmp1 = strtmp1.replace('\"NONE\"}}', '\"NONE\"')\n",
    "    #Asignamos al sentimiento positivo el valor de 1\n",
    "    strtmp1 = strtmp1.replace('\"P\"}}', '1')\n",
    "    strtmp1 = strtmp1.replace('\"NEU\"}}', '\"NEU\"')\n",
    "    #Asignamos al sentimiento negativo el valor de 0\n",
    "    strtmp1 = strtmp1.replace('\"N\"}}', '-1')\n",
    "    #eliminación de puntuaciones\n",
    "    strtmp1 = re.sub('[¡!#$).;¿?&°]', '', strtmp1.lower())\n",
    "    fout.write(strtmp1)\n",
    "#cerrar archivos\n",
    "fin.close()\n",
    "fout.close()"
   ]
  },
  {
   "cell_type": "code",
   "execution_count": 23,
   "metadata": {},
   "outputs": [
    {
     "data": {
      "text/html": [
       "<div>\n",
       "<style scoped>\n",
       "    .dataframe tbody tr th:only-of-type {\n",
       "        vertical-align: middle;\n",
       "    }\n",
       "\n",
       "    .dataframe tbody tr th {\n",
       "        vertical-align: top;\n",
       "    }\n",
       "\n",
       "    .dataframe thead th {\n",
       "        text-align: right;\n",
       "    }\n",
       "</style>\n",
       "<table border=\"1\" class=\"dataframe\">\n",
       "  <thead>\n",
       "    <tr style=\"text-align: right;\">\n",
       "      <th></th>\n",
       "      <th>tweetid</th>\n",
       "      <th>user</th>\n",
       "      <th>content</th>\n",
       "      <th>date</th>\n",
       "      <th>lang</th>\n",
       "      <th>sentiment</th>\n",
       "    </tr>\n",
       "  </thead>\n",
       "  <tbody>\n",
       "    <tr>\n",
       "      <th>0</th>\n",
       "      <td>768225400254111744</td>\n",
       "      <td>14628107</td>\n",
       "      <td>@noilymv yo soy totalmente puntual</td>\n",
       "      <td>2016-08-23 23:16:23+00:00</td>\n",
       "      <td>es</td>\n",
       "      <td>none</td>\n",
       "    </tr>\n",
       "    <tr>\n",
       "      <th>1</th>\n",
       "      <td>770077064833671168</td>\n",
       "      <td>713600676</td>\n",
       "      <td>@sandracauffman hola sandrita no le habia dese...</td>\n",
       "      <td>2016-08-29 01:54:14+00:00</td>\n",
       "      <td>es</td>\n",
       "      <td>1</td>\n",
       "    </tr>\n",
       "    <tr>\n",
       "      <th>2</th>\n",
       "      <td>771207534342320128</td>\n",
       "      <td>120940293</td>\n",
       "      <td>si andan haciendo eso mejor se quedaran callad...</td>\n",
       "      <td>2016-09-01 04:46:19+00:00</td>\n",
       "      <td>es</td>\n",
       "      <td>-1</td>\n",
       "    </tr>\n",
       "    <tr>\n",
       "      <th>3</th>\n",
       "      <td>771900763987513344</td>\n",
       "      <td>2827444381</td>\n",
       "      <td>que pereza quiero choco banano</td>\n",
       "      <td>2016-09-03 02:40:58+00:00</td>\n",
       "      <td>es</td>\n",
       "      <td>-1</td>\n",
       "    </tr>\n",
       "    <tr>\n",
       "      <th>4</th>\n",
       "      <td>772550560998301696</td>\n",
       "      <td>60878511</td>\n",
       "      <td>@robertobrenes bueno, no es tanto lo mayor com...</td>\n",
       "      <td>2016-09-04 21:43:01+00:00</td>\n",
       "      <td>es</td>\n",
       "      <td>-1</td>\n",
       "    </tr>\n",
       "  </tbody>\n",
       "</table>\n",
       "</div>"
      ],
      "text/plain": [
       "              tweetid        user  \\\n",
       "0  768225400254111744    14628107   \n",
       "1  770077064833671168   713600676   \n",
       "2  771207534342320128   120940293   \n",
       "3  771900763987513344  2827444381   \n",
       "4  772550560998301696    60878511   \n",
       "\n",
       "                                             content  \\\n",
       "0                 @noilymv yo soy totalmente puntual   \n",
       "1  @sandracauffman hola sandrita no le habia dese...   \n",
       "2  si andan haciendo eso mejor se quedaran callad...   \n",
       "3                     que pereza quiero choco banano   \n",
       "4  @robertobrenes bueno, no es tanto lo mayor com...   \n",
       "\n",
       "                       date lang sentiment  \n",
       "0 2016-08-23 23:16:23+00:00   es      none  \n",
       "1 2016-08-29 01:54:14+00:00   es         1  \n",
       "2 2016-09-01 04:46:19+00:00   es        -1  \n",
       "3 2016-09-03 02:40:58+00:00   es        -1  \n",
       "4 2016-09-04 21:43:01+00:00   es        -1  "
      ]
     },
     "execution_count": 23,
     "metadata": {},
     "output_type": "execute_result"
    }
   ],
   "source": [
    "train_df = pd.read_json(\"TASS2019_country_CR_train-sintilde.json\", encoding=\"latin1\")\n",
    "train_df.head()"
   ]
  },
  {
   "cell_type": "code",
   "execution_count": 24,
   "metadata": {},
   "outputs": [
    {
     "name": "stdout",
     "output_type": "stream",
     "text": [
      "['@noilymv yo soy totalmente puntual', '@sandracauffman hola sandrita no le habia deseado un feliz dia de la madre, tarde pero seguro sabe usted si juno ha tomado mas fotos ', 'si andan haciendo eso mejor se quedaran calladitas jaja pero asi se estan quemando ellas mismas e insinuando que son unas metidas', 'que pereza quiero choco banano', '@robertobrenes bueno, no es tanto lo mayor como cuanto de campo sea usted sos cartaguito en cada aspecto de tu vida, por lo visto', 'pase todo el dia buscando mi baby lips y lo acabo de encontrar estaba en la mesita de noche de fijo lo puse ahi dormida', '@doriamdiaz el de halfon de germinal se ve mortal y los de mary jo bang se fueron volando, pero todavia quedan en duluoz hay de salcedo', 'ahorita me van a cambiar las ligas de los brakets, tengo alfajores argentinos en mi bulto, tengo hambre , que hago no puedo esperar mas', 'el amor es paciente, es bondadoso, no es envidioso ni orgulloso, no es egoista, no guarda rencor 1 corintios 13:4-5 buen dia a todos', 'el amanecer respirando o2 puro, es mas que un regalo mas si es a las 6:00 am frente al mar preparando la mente con meditacion', 'acabo de ver una chamaca con un piercing de mota en el ombligo lo peor es que tiene cara de que lo que fuma es jamon', '@ruthernandezj hahaha sq si tiene un 5 hace rato era de cambiarlo haha, yo creo que si aguanta el mio bastantito casi 1 año ya', 'acabo de ver a una excompañera de trabajo y me senti tentado a saludarla con la trompa del carro, a 150kmph, intencionalmente', '@colucci_99 ah si gracias esas son las que he encontrado hasta ahora antes en pricesmart las vendian hace años pero ya no', 'buenas noches papus, que descansen', 'me faltan 50mil colones la unica manera de hacer toda la entrada de metallica es literal pichaseandome esta semana trabajar 12 horas', 'alvarado velando por mi salud', '@josdav17 nunca hacen nada, hasta que exista segun ellos mas evidencia o sea aparecer mas de 4 veces al dia en tu casa no es valido', '@manryev me alegra muchisimo que te gustara igualmente un placer saludarte la proxima que vengas a sj avisa con tiempo y vamos por cafe', 'hoy tengo 2 preguntas existenciales1 por que hoy esta haciendo tanto frio y 2 porque me volvio a dar hipo despues de tantos años', 'aqui en chepe donde consigo un buen sarten de hierro vi unos en universal marca gibson q ni siquiera aparecen en internet', '@sancarlena77 @frankgrs nunca dije lo contrario', 'a mi me dan ganas de volarmelo pero me acuerdo de que mi pelo es un desmadre y me lo dejo quedito', 'pobre bastian scheweisteinger lo que le esta pasando en el united, es muy crack y el genio de mou no lo quiere', '@kanygarcia esaaa la mejor de las suertes disfruta la noche, disfruta del granrex saludos desde costa rica buena vida, pura vida', '\"mae mañana llego a las 10, cuidado te quedas dormida porque a las 10 estoy ahi\" -liena, se quedo dormida y no ha llegado', 'mi familia va para la playa y yo por irresponsable tengo que quedarme haciendo los 1000 extra clases que tengo para el martes', '@francetvinfo @mr_matth @france2tv comopor años el ha sido parte del tour,junto con las bicis y las camisas amarilla muchas gracias', 'mejor me duermo buenas noches', 'mi horario de este semestre es tan tan feo, que me tendre que despedir de mi poca vida social y del estreno de suicide squad', 'sabia que no iba a ser un buen dia cuando me dejo el bus y se me rompio la faja del bolso', 'maes, la vida es una mierda: esten felices o no mejor sonrian y aprovechen el tiempo estar amargado no la va a hacer menos mierda', '@rociomoram29 que mal y por eso es que estan jugando, yo creo q los jugadores viejos o de la casa deberian tener prioridad pero bueno', 'parce yo estoy igual @paisavlogs', 'gracias a dios cerrando con broche de oro dios siempre dando lo mejor a sus hijos esta semana fue mucho mejor que la pasada thnksgod', 'hola, soy paulo y soy parte de la primera generacion que va a tener resolucion de problemas en bachi de mate', '@donovanrp excelente, cuando me den el carro lo molesto, igual no conozco a nadie mas q haga uber asi que el bono es suyo', '@kristels18 aca tengo pero ugh, la canela no me gusta mucho es que es que me cae pesado, pero se me quitara gracias kris', 'yo solo quiero dormir mas', 'buenas noches papus, que descansen', 'oiga @narcosnetflix porque no me reviven a escobar, pa que se ponga interesante la serie eh jajajaja ( es en serio', 'el unico senador q se dirigio en español a la audiencia republicana para apoyar a @realdonaldtrump es de padres costarricenses que pena', 'el horario me quedo tan perfecto y tengo tan buenas eectativas de los profes que ya quiero entrar a clases tan bichoraro, lo se', '@msroucks wtf yo tengo mi biblia firmada por el diablo okno, pero eso es lo que se me vino a la mente :v', 'solo mi mama logra por primera vez una cena en paz con toda la familia rodriguez que feliz soy de tener la madre que tengo', 'yo vivo a 25 metros de la basilica y sali a ver el juego de polvora de estos dos dias, muy bonito nadaquehacer', '@anavm @katagelon fijo esta demasiado hermoso', 'viendo looking, queers as folk y asi, me doy cuenta que nunca he tenido un grupo de mejores amigos gays alguien me adopta', 'recuerdo cuando le escribia a mi hermana @andreagraseq79 para que me motivara y me hiciera sentir util dios me dio a la mejor hermana', 'hoy inicia la concachampions 2016-2017 pero realmente no importa porque no esta la @ldacr, en todo caso la voy a seguir porque si', 'buenos dias inicio de mes a darlo todo, aunque sea \"mas o menos bueno en algo\" feliz inicio de semana', 'llego a la casa a las 9:20 caminando, no hay comida, todos estan dormidos, mañana tengo clases a las 8am, todo esta bien', 'lo termine a las 2 am hora costa rica, porque se me hizo super adictivo me gusto pero no me encanto lcshinyforflowers', 'yo estoy triste por raps', 'fiesta bananera, dia de la cerveza, semana 14, ultimo dia de eeriencia y asi no quieren que me vaya de parranda', 'esta estupida de abis a la par mia esperando a que saquen el desgraciado trailer de resident evil fuck hasta as 12 md la vamoooos', '@bycoba con agua, hielo regularmente para que se mantenga fresca y un poquito de azucar a la semana, me han durado hasta mas de 1 mes', 'nos encanta hacerte feliz @rubndu', '@miguesl21 en estas epocas no hay que decirle no a ningun trofeo y es conmemorativo para todos los equipos que ganen en la jornada', 'yo ni se que le hice me deja de hablar de la nada y ni sabe cuanto la extraño chas gracias', 'y las emergencias la gente que necesita ir a hospitales los que esperan cita desde hace años ahhh no yo apoyo el paro nacional jijis', '@nubecina entonces no es indigente ni tiene problemas mentales eso no justifica nada la lanza como 1 muñeca a la calle', 'no voy a poder ver a mi mama el dia de la madre por un hijo de la grandisima puta bien', 'la daniela me tienen griseada', '@jdclarke totalmente, lo del fisico se deja atras cuando el una persona atractiva en todo sentido incluyendo sus propuestas y cerebro', '@lenaychantelle cual es tu helado favorito y comida como te parecio costa rica cuando viniste y a donde fuiste sigueme pls saludos bye', 'acabo de preguntarle al mae de a la par que para donde va pero no fue por vina esque estoy demasiado perdidaaaa', 'hoy estan participando muchas mas mujeres, lo que me alegra mucho ya sea para preguntas propias o para hacer preguntas por su pareja', '@me_aburris si he visto q los motociclistas andan especialmente violentos le pegan a los carros, los patean, le gritan a la gente y esto', 'lo bueno es que voy para talamanca y cahuita en una gira, lo malo es que es el finde antes del examen de analitica', 'no me quiero levantar aiuda', 'mmm no quiero hacer spoiler pero hoy va a ver algo nuevo en el canal,lo podras ver en el nuevo video que subire en unas horas', '@hugozap quiza para profesionales no sea mucho,pero hay no remunerados principalmente femenino para quienes es un sueño, pasa en mi pais', \"x:que perfume usas yo: victoria's secret x: ah yo uso uno de pink que es mas caro que ese\", 'hay gente aficionada al futbol, hay fanaticos, hay envenenados, y hay otros hijueeeeputas necios igual que todo en la vida', '@esgermandz quiero hacer una pregunta  si puedo yay bueno la pregunta es vas o irias a un jovenes en victoria', '@jarmandocs vos tambien estabas ay que triste nombres si, yo estaba durmiendo, para ir a clase hoy a las 7:30am te extraño bebe', '@jarmandocs solo me quedan 3 sabados mas asi jiji que dias estas yendo a la u que no te he visto', 'que feo eso de decepcionarse', 'delicioso @ san rafael ezcazu', '@khamoreno hahahaha no lo habia visto pero ojo, me desperte a las 8 y estoy tratando de dormir no puede ser q ste despierto aun', '@anavm llego tarde, soy huge fan la empece en el 2000, creci con ella sube y cae tiene de todo como toda serie, temporadas favoritas', '@microcoansh seamos sinceros: mi rostro inocente y un: amigo, no me podes abrir es que perdi las llaves y mi roommate no contesta abre', '@cotolau @andrecorts yo tambien tuve los libros de amp y no me convecieron :/, yo pase los examenes pero gracias a los examenes viejos', '@itsdylanjos yo solo las cucas', '@starbucks_cr hola, queria agradecer al personal del starbucks de la sabana por guardar mi cartera olvidada son los mejores, saludos', '@danileivacr buenisimo yo mañana voy a clase de 6 de la tarde que es yoga dance, es como yoga pero aerobico', \"ya no estoy para andarle sacando conversacion a alguien, si la vara fluye bueno, y sino va pa' la mierda\", 'me cago en la puta', 'el post que compartio @luislauretto no voy a poder estar tranquila hasta que anuncie quien viene y ya estoy pobre gnr metallica', '@malarodriguez saludos desde costa rica malaya q siempre te escribo y nunca me respondes igual nunca me canso de escucharte besos', '@sanzzeritica el chavo no estaba triste', '@varce_c que triste es la realidad', '@calikhaug @pilaracuna muy bueno chiquilla: no hay que tirar piedras al techo del vecino si el tuyo es de cristal feliz noche, pili', 'nada mas bonito que ir en bus lleno y que alguien comience a toser como si se le fuera a salir un pulmon', '@atrejoscr se ve fea en general', '@gabojimenex jajaja yo me pegue el susto de la vida, y luego la espera por meterlo al taller de icon pero ya esta vivo', '@dimar1712 tan linda diana, muchas gracias vamos a ver como me acomodo ahora con trabajo nuevo, cuesta un monton yo te apoyo desde aca', '@grupopandora y son 3030 años de acompañarnos,30 es mi edad y he crecido de la mano con ustedes mil gracias, atte: ale', '@aleeseke ooops cierto me mata @raqueabr02', 'nota personal: no ver videos de noche sobre youtubers comiendo no ver videos de noche sobre youtubers comiendo no ver videos de noche', 'cosas q debemos usar para simplificar nuestra vida: el cerebro, sentido comun, una sonrisa y eliminar a quien no nos interesa simple', 'unam, mil gracias por todo, te prometo en los siguientes 3 años titularme, aunque me haya costado 13 llegar hasta donde estoy hoy', 'rajado, cuando pasan 16 años te das cuenta que unas cosas cambian siotras se mantienen para dar tranquilidad en los dias libres', '@starbucks_ct hola , queria preguntarte si el nuevo cafe chiapas, es el mismo shade grown porque voy a hacer degustacion pronto ', '@jkriptos @lmongeb jajajajajajaja no, soy la que consume no la que las produce saludos jason que disfrute ese super viaje', 'mi mama adopto una gata que dejaron botada al frente de la casa, si alguien necesita gatos me escriben, tengo 4', '@rafa514x sera que un \"entreno\" es un entrenamiento \"artesanal\" digo, como ahora todo es \"artesanal\"', '@ushcala esa es otra buena idea aunque la dinamica de el a sus 9 y la mia esa misma edad es muy distinta', 'la vara es que ya tengo como 3 quiz, una eicion, dos examenes, un ensayo, y lo peor es que mis vacaciones ya casi acaban', '@xylefthebarber de comics y de humor negro no y estare tiempo fuera de youtube, si logro volver es con una idea diferente y cool', '@d4rkuspl4y ah era hoy mañana durante el dia puede llamarme y con mucho gusto a plena luz del dia no en lo oscurito en barrios mierda', '@andreareyes6767 hola odiosa me hace falta', 'ocupo que den un secret passcode para que las beliebers compren las entradas antes y despues las que sobran las ponen a la venta normal', 'me siento triste y solo', 'si por aca hay algun chico o una chica mayor de 18 que busca empleo para temporada navideña en tienda, que me ponga un dm', '@sancarlena77 jajaja por cierto, hasta ahorita me percato del username y yo preguntando donde vive soy un imbecil perdon', 'fijo a esa mae algun famoso le dijo algo, entonces por eso se cree la mas rica y solicitada del puerto, es mi opinion', 'no sali el fin de semana porque hoy tenia examen y salgo del examen y nadie quiere ir por una torta chilena', '@diegodelagos ayer la gente de mi fb se porto mejor que la de mi tl de tw en relacion con el tema de los himnos', 'bienvenida a los juegos mentales', 'quiero cambiar de posicion el cuarto pero soy tan indecisa que si despues no me gusta me voy a sentir mal por una semana', '@wancitocubero horrible muy buena pero devastadora', 'no son ni las 9am y aqui estoy a moco tendido, llorando con una pelicula con cameron diaz que se le muere la hija', 'todos queriamos ver las 2 ticas juntas en la final pero asi es esto , ahora le toca a lei q avanza a la final visslaisaworldjuniors', '@tatisalvaradop mañana si me duermo en la oficina le cuento para que se sienta culpable *busca el cofal y las pantuflas* bonita noche', 'mision cumplida del fin de semana, fastidiar a mario, en broma verdad, hola feo', '@luisdbatallar esa tabla es muy reveladora', 'que cargados de odio estan tengan se escuchen musica abracen salgan de vez en cuando con los suyos y vera como se le quita', '@filarmonicacr gracias pd sigan adelante con sus maravillosos trabajos quiza algun dia un tributo a soda stereo jeje', 'en \"x\" gimnasio me iban a cobrar como 330mil colones en un año no me matricule y estoy haciendo las matematicas para el siguiente viaje', '@burodecreditomx por curiosidad intente en 5 bancos distintos y en todos declinado, pero mi reporte esta en verde y mi score tambien', 'mi consejo de hoy es: si quieres que esa persona tan especial para ti nunca te olvide, pidele dinero prestado y nunca se lo pagues', 'soy la peor basura del mundo porque, justo hoy andrea tenia que verme con otra mujer, que mal me senti', 'me acoste super tarde ayer (para mis horarios normales y ahora no puedo seguir durmiendo porque no aguanto el calor de estas horas', '@titabobra si llegamos , unicamente pedimos un poquito mas de tiempo de lo normal y los tel: 2225-3080 / 8827-1559 ', 'lo mejor que puedo hacer hoy es dormir porque estoy a punto de llorar, no fue mi dia en serio', '@uigitsu siempre se aprende algo nuevo', 'sera normal este odio-amor con mi hermana ni siquiera me respeta me mando a lavarme el culo al rio lagarto', 'por la mañana hazme saber de tu gran amor, porque en ti he puesto mi confianza salmos 143:8 buen dia a todos', 'bonito cuando pasan a fumigar', 'ya esta listo el puente peatonal por mi casaya no tendre que dejar de jugarme la vida cuando voy al auto o al cajero', '@franzugarte @unautenticocule asi tiene que ser  yo m alegro solo si el barca pierde en algo qe influya a madrid cmo la liga ayer tuani', 'que rico que es dormir', '@h_e_y ya ahi si no sabria decirte generalmente siempre hace sol temprano, se llega a poner nublado es como luego de las 3pm', 'yo le escribo a la gente a la hora que sea porque mi ansiedad no me permite esperar a una hora prudente', \"@eliana_gab lunes: muerta estudiando fisiologia animal (como ahorita puedo sabado o domingo pa' que le soy buena\", 'mis tenis fueron las primeras en ser compradas y no han llegado todo el mundo con tenis nuevas y yo aqui, zad', '@frimiralles que delicia, si estuviera mas cerca fijo le llego con el tupper pero 200 km me separan de su pozol', '@ang_qs_flp mi corazon desperto mis pasos siguen lo que dicta tu voz, mi sueño siempre va ligado a tu amor', 'esta ceniza me tiene mala ya ando con alegria y me arden los ojos, no puedo usar lentes de contacto', 'mañana tengo examen de quimica e ingles, y aqui estoy acostada, con el celular, conciente de que no se ni que temas me entran', '@me_mata la historia de tantas en todos los paises latinoamericanos una mierda nuestra seguridad y ese maldito concepto de \"macho\"', 'buenos dias @luisguillermosr hace una hora y media sali de cartago y apenas estoy en zapote la gasolina esta cara y con presas no rinde', '@dcblancoq o ya lo esta hola', 'entre lo positivo, esta el hecho de que no tendre esas responsabilidades extra que adquiria si yo quedaba electo pero mae yo queria', 'aunque el dia no empezo de la mejor manera, queda en uno decidir que tipo de dia se quiere vivir', 'independientemente del resultado, me queda claro que tigres va a en la proxima fase de la clc', 'pues que estoy hablando y en eso me sale el lado ñoño que esta dentro de mi todo mal yo hablando de trastornos de personalidad', '@olliegamerz soy la peor del mundooooo se me olvido la fecha de tu cumpleañooooos sorryyyy felicidades bae', 'me despierto a las 6 de lo mas tranquilo y relajado, me despierto a las 8 y amanezco cansado y enojado', 'mi mama me maquillo super chiva para halloween, y todo lo grave en snap snap: nayma_vp', 'mañana se madruga para ir a trabajar a la casi frontera norte si puedo me paso y voy por toñas y tostones', '@saramallow los mismso problemas que tenia del otro lado, solo que solo iba un dia a la oficina y mi vida era una ilusion', '@mapashito73 excelente por mis eectativas y por supuesto voy a a estar pendiente para verla lo mas pronto posible, gracias', 'soy de esos que, aun cuando la comida este lista y tenga hambre, si no me sirven me da pereza y no como', 'championsxfox me pueden mandar un saludo desde costa rica viendo al sporting y a bryan ruiz, porfaaa', '@nats_castro vaya a cafetear sola o por un traguito o asi, a veces es lindo darse ese tiempo para uno', 'vi que tengo un vecino tan guapo lo peor es que no se ni como se llama', 'el fin pasado le rogue demasiado a mis papas por unas nike, y no me las compraron', 'mañana hay entrega de trabajo final y yo aqui muy zen desayunando en paz sin tener ni media pagina escrita ni las fuentes', '@luisangelzr fijo tenia un amante bandido esperandola asison', '@dankenzon imaginate si cuando uno saluda a alguien que esta saludando al de atras se siente feo me da miedo ajeno', '@_monsejimenezp jaja que dichosa pero entonces cual es la excusa para ser tan repugnante', 'dias como hoy agradezco no tener carro andar con el higado hinchado por saber esos marchamos, mejor ando en uber jaja', 'siempre que veo pasar deprisa a una ambulancia de soporte avanzado, se me hace un nudo en la garganta y me vienen malos recuerdos', '@laescude si, a mi tambien me gusto mucho, pero como todos esfuerzos sociales de google, el problema es crearles volumen de usuarios', '@katty_loz empezando xq en mi twitter solo jodo a darkus pasatiempos tengo muchos una cuenta de twitter no me define uselalogica', 'hoy es el concierto de metallicaaaa uuuuhhh lastima que no voy la wea triste', 'chema en esas y todos en la oficina deseando que vuelva a la oficina y a dirigir la empresa mejor', 'cuando no sepas que hacer nada mas hagarra tu celular, unos audifonos y despeja tu mente', 'de hoy en ocho nos dan las camisas de undecimo, y yo ni se si voy a lograr sobrevivir a la semana de trimestrales', 'llevo mas de una semana lesionada', '@leonardodiazpor sos mi james gordeon favorito', 'en una propuesta/solicitud de servicio lo que debe quedar muy claro son los entregables si esto no esta claro, habra problemas', '@ka_arroyo_ y como mezclan realidad con mundos paralelos, y que es diferente a las demas peliculas de marvel', '@reydelosbullies la quiero aniquilar desgraciada', 'yo hasta ahora veo el video del pingüino no lo puedo creer es normal que este tan triste diganme que ustedes tambien lloraron', 'no se pueden ver 2 series a la vez es lo peor prisonbreak blackmirror', 'ese momento en que tienes que decidir algo ya y no tener una idea que es mejor', '@natticornia @younow ya volvio a esas mierdas porque no tiene a show de huevos es un dia triste para el hombre araña', 'con lo que voy a gastar comprandome algo para halloween me compro una mudada y de paso la entrada en 5 mil', 'acabo de recordar que existen los queques navideños y ya casi es diciembre para verlos por todo lado', 'tengo que aceptar que me esta hundiendo el consumismo con la nueva macbook pro, la gopro hero 5, el gopro karma y el nintendo switch', '@javi_guerrero97 vas a ser un gran comunicador', 'princesa hermosa  estas creciendo muy rapido te amo pequeña de tia', 'voy a ver armaggedon que cinta rajado, muchas gracias a la persona que me la recomendo', 'tengo una leve duda de que las fotos del meet aca en cr las van a plublicar hasta el año que viene', '@koalasoy es una teja ese cabron si en el programa se ve agradable, en la vida real es el doble de buena gente', 'soy una anticuada, pero como me duele ver o escuchar a gente querida hasta el rabo', 'sospechosa tarde navideña de octubre grinch', 'ya me quede sin wifi y que flojera levantarme a encenderlo de nuevo mi mama que no me quiere _', '@mellamosara @bichoclarke @gabmmd los de cuero,papel y tijera que tenia uno visto desde hace dos semanas y le subieron el precio', '@germanjbh no me diga eso german, que triste jaja nunca habia querido los gatos hasta este jaja', '@sinceratops no me dijo nada nuevo, tranqui jaja si ve mas bolsos lindos me los recomienda tambien, porfa', 'la tipica que nunca ha dicho la palabra \"picha\", siempre se la ha \"comido\"', 'ultimamente no twitteo porque no tengo ideas sobre que twittear 🤔🤔 ya me tiene feo el tec', 'hay un grupo de estudio religioso en el sotano y estan haciendo un bullon increible yo solo quiero ver mi pelicula de putas', 'es bonito tener orden en la vida solamente hay que aprender y acostumbrarse a poner las cosas y a las personas en su lugar', 'para regalar asi que si alguien esta interesado pueden buscarlo tipo 12md cerca de la plaza de la cultura, donde suele estar', '@treledo ya pude ver la info, el hoario es de 730 a 4, no tenia idea de que se podia solicitar digital, gracias', '@crampsattack fijo se me pierde, la vez pasada la encontre en la lavadora fumando rinso 1 semana', 'era a la 6 que me queria levantar, no a las 5:15 con el ruido de una hijueputa licuadora gracias al descerebrado de mi primo', '@nellaz listo muchas gracias nella', 'si cofal o zepol necesitan influenciadores en digital, hoy, despues del pichazo que me pegue, yo podria ser uno', 'no me han llegado mis peliculas de cine clasico que pedi asi que vere algo basico como the purge: el año de la eleccion', 'hoy a santi se le rego el pichel lleno de fresco, y yo parecia senicienta por todo el piso jajaj', '@fermeade gracias a ti hoy soy muy feliz descansa, que sueñes bonito te quiero un monton', 'que feo estar sin celular', '@elcatoencorto @boocr2012 @jchidalgo tengo criterios a favor y otros en contra, no lo tengo tan claro en cuanto al resultado final', 'los recuerdos mas importantes y los mejores vividos se quedan en el alma, mas en cualquier otra cosa son borrables', 'buenas noches chitos y chitas de mi tl  que sueñen bonito, asi como con a yo', '@jaenrodz jaja gracias igual mido 155', 'erito es una mala persona', 'cuando salga de examenes me voy a meter al gimnasio y voy a tener un cuerpo lindo, y ahi es cuando voy a ser feliz', 'new balance podria dejar de ser el patrocinador de la sele o sea, camisetas feas otra vez', '@monumentalcr buenos dias, ultimo dia laboral, me voy a vacaciones una semana exitos en sus vidas y que sean muy felices', '@pandax14cr @d4rkuspl4y si va comer gallina mejor quedese calladito, tomese sus pastillitas y siga echandole el cuento a youtubers', '@chepe_centro bueno no es tan mala, tiene muuuchos elementos de las primeras dos peliculas (eso es lo mejor y le agregan otros nuevos', 'mi profe de comunicacion se parece a la profesora umbridge yo se que en el fondo es malvada y nos quiere ver quedarnos', 'que me han dicho tantas veces odiosa que a veces creo que si lo soy pero naaah soy un amor', 'ahora que trabajo tiempo completo me siento tan merecedora de los viernes como que tengo derecho a cantar the cure (', '@glorypb las maniaticas son lo mas divertidas', 'ya casi me quitan los frenillos y no quiero aun los siento feos los necesito al menos un año mas', 'en otros temas y aparte: la vida da muchas vueltas que curioso como cambian algunas cosas', '@h_e_y que injusticia, yo no sabia guardadas porque no las queria arruinar y se me dañan en la siguiente puesta', 'chiky en todos los eventos me dice \"mae echame a una amiga tuya\" y nunca le he cumplido, soy una mala mejor amiga', 'mañana debuto en percusion para leones chinos, ya puedo dejar de ser una samulnorian frustrada aunque el traje de samulnori es mas lindo', '@mhariprada por lo menos lo tenes ahi no me acuerdo la ultima vez que yo vi al mio (amo esa cancion, btw', '@pazbloise a mi me operan el lunes las 4 y leer esto es muy poco alentador que sigas mejor', '@christ_campos06 jurelo que lo reconsidero siempre, tengo insomnio y la ansiedad no me deja dormir + tengo e mañana', 'pero yo hablo caca de todos lados, soy una comemierda democratica', '@ilejarza es el mejor espero con emocion ese disco nuevo y deseo tener tiempo para digerir toda la discografia antes de morir', 'el amor no dura para siempre', 'de nuevo quiero dedicarme solo a ser groomer y pasear perros no saben la felicidad que me trae', '@marielabrenesv ah entonces a ver primero stranger things, ademas que son menos episodios voy a ver si la empiezo ya', '@kamilar94 i told you mi bateria es un ridiculo, un 10% dura 5 minutos ahora necesito que arreglen esto ya', '@pamearcep esa es la respuesta correcta jaja', 'estoy en mi casa encerrada en el carro con musica full cuando deberia de estar en algun lado', '@jpr_cr con azucar jaja yo solo con sal y limon, a veces le echo un poquito de chile', '@libadri perfecto gracias a ver cuanto me toca pagar este año, que ya 3 años he pagado lo mismo', 'primer vez en años que no tengo plan de halloween, difraz, nada solo quiero terminar de estudiar rapido y ver el partido', 'windows10 que mal me caes @microsoft para abrir cualquier navegador o aplicacion es tan lento, torpe e ineficiente que da pavor', '@presenteausente *suspira* puse picadillo de chayote con molida y maiz dulce, arroz con frijoles, y un bistec, asi a lo sencillo', '@arirs07 perdon jaja desde la semana pasada estaba por contarte, pero esta no podia', 'apoyen a la network @mcroyalpvp  esta network tiene futuro  p hare videos y directos ahi cuando habran', 'lo que extraño de no vivir con mi tia es que ya no puedo ir a la playa o de peda con mis primos favs', 'si me hubieran pagado el viernes estaria fuertemente de fiesta, pero no aqui estoy acostado en mi cama como 168 colones en la tarjeta', '@josepb17 su mama va yo tambien voy  pero fijo ya ella no se acuerda de mi y yo soy distraida', 'juro que todo lo veo borroso', 'la vez pasada hice una amiga de baño en el club se llamaba naomi saludos naomi, te tengo presente', 'me siento tan inutil, pero bueno yo siempre he trabajo en las tareas pasadas', '1 minuto de silencio por los que trabajamos en horario de mall y no podemos ver el clasico', 'hice el huevo frito mas perfecto de la historia y no le tome foto', '@luisronaldmesen @amy_arom es simple mejor no arriesgarse, el q la consuma q la disfrute, yo mejor paso y ya', 'yo no se ustedes pero mi mejor amigo al chile es el mejor amigo y lo extraño zad', '@javiercd18 jajaja es que te pones a buscar defectos en una buena iniciativa de redes yo tambien te quiero y me haces falta', '@emilio_botas cuidado y se enamora de la suegra, porque vieras que señora y que mano tiene para la cocina, y dicen qe panza llena corazon', \"entre todas las miles de personas a las que le podia haber pasado eso, me pasa a mi --'\", 'millennial memorial: cambiar contraseña wifi con el nombre del gatito amigo de boabdil que se acaba de morir', 'regalo hermano menor tiene 16 esta en plena adolescencia y es insoportable, el que lo acepte lo invito a comer', 'no me niegues, señor, tu misericordia que siempre me protejan tu amor y tu verdad salmos 40:11 buen dia a todos', '@jenyeerimenta yo a el lo amaba desde hace 3 años y ya es demasiado comun jaja', 'mi estomago dice mozarella sticks y mis huecos post operacion dicen pure y gerber', 'me siento mas ignorada que de costumbre lo bueno es que soy estudiante universitaria y en vez de lamentarme puedo aprovechar el tiempo', '2:12 am, esta semana he dormido 17 horas, hago examen de quimica a las 8 am y salgo del brete a las 10 pm', '@phoenix2124 si si, prendieron fuego  la unica que me sabia la cantaron cuando estaba haciendo fila en el baño 1 gusto conocerte', 'entro a trabajar a la 1:30 pm y yo en san carlos mi tio cree que voy a llegar puntual', 'yo que podria decir de mi ex fui demasiado feliz y me hizo crecer como persona', 'digamos, muy bonito todo, un dia super chuzo, todo divino pero mi crush no me dijo feliz cumple', '@gabrielselva_cr ahi estaba, bueno en el descanso no, me fui a mojar hasta los palcos del frente para hablar con los privados de libertad', '@pauarce21 en serio que una se va a graduar en el tiempo de dios', '@_star_vader si, no hay que perder la esperanza jaja, digamos tuve muchas eectativas con alguien pero no se dio y tome por gordo', 'clinton gano voto popular y trump el colegio electorado adivinen quien es presidente electo', '@maceji87 sorry x el delay, pero el app arranca cuando quiereabrimos de lunes a sabado a las 6pm', 'escucho a @hillaryclinton porque no me aguante y no puedo creer aun que hayan elegido sobre ella a @realdonaldtrump es realmente triste', '@piladetrastos @tsaitami porque al final siempre llegan a lo mismo: es que ella debio asumir mas su lado femenino', 'no es posible que trump vaya ganando las elecciones y que yo aun no me gane una pizza de @oterospizza que es esto', '@salgueromoya por cada accion cometio como 4 delitos a la vez eso se llama concurso ideal o material ya no me acuerdo', '@racheliuxcastro @jkriptos tenemos pendiente un vacio whisky y habanos como que este fin complicado', 'bill clinton ya esta muy viejito', \"@dianalaa32 es una escena de uno de los documentales mas respetados sobre naturaleza ('planet earth' de la bbc dudo que sea montado\", 'hoy es un buen diaaaa', 'ya no es tan divertido', 'necesito plata, mi regalo de cumpleaños no alcanzo para la ropa de navidad y año nuevo', 'yo quiero enseñar mis bolas en facebook, pero su politica de desnudos es muy estricta mejor no', '@saywhatmini hermosa verdad ️ me toca quitarlas porque no puedo mostrar caras', 'vean los nuevos emojis ios102 el aguacate 🥑', 'tan triste mi vida que me hablan en snapchat solo para decirme que mis animales son lindos', '@chicadehumo7 , no hay que sentirse mal por ya no querer creo que es bueno saber lo que uno quiere y lo que no', 'estornude y me mordi la lengua porque mi suerte es asi', 'ya 3 veces me ha dejado mamando, pero la verdad lo veo tan guapo', 'suerte nivel, llame a la pizzeria para pasar por una pizza y llueve cuando deje mis sombrilla perdidas', 'estoy asi de hacer una estupidez', 'les parece que soy una persona odiosa a cada rato me dicen eso y que tengo cara de amargado', 'el huequito del septum no se me ha cerrado por completo pero ya no me cabe la pieza', '@elinvisiblesoyo jajaja aqui la confianza virtual', '@deprotti la ex novia de 30 vrs sabina para finalmente aceptar que estas viejo', 'y todo lo que hagan, haganlo con amor 1 corintios 16:14 buen dia a todos', 'buenos dias @rubiu5 que pases un buen dia', 'me estaba sacando las cejas y como se me ocurren cosas geniales decidi arrancarme una pestaña y ahora me duele el parpado y se hincho', 'las canciones de juanes y julieta venegas siempre me hacen muy feliz', 'viendo fox pasan portadas de periodicos deportivos solo en crc no, porque no tenemos periodicos deportivos', '@avargas10785 yo hago eso, sino nadie contesta, asi ven que no es mi culpa que no se muevan las cosas, perdon por vivir', '@edgumaco yo siempre deseo eso y cuando estoy librecomo hoy> ando desde temprano dando vueltas y sin sueño', 'ya no tengo libro para leer ni serie para ver, mis noches se estan volviendo aburridas', 'mi imposible quiere irse a europa yo tenia pequeñas esperanzas sabiendo que era imposible, pero ahora se las lleva para europa', '@david_gato5 mae esque mi top 3 son dez bryant, a brown y obj la de zek viene de cuarta', '@demimendozaa obvio ya quiero llegar y verte asi que de una vez organiza ixma', '@residente y fui a buscarte xq habias agarrado x otra calle, venias hacer un concierto, y bueno pues te encontre al final jeje saludos', '@valavb asi es, aqui estamos pasando algo similar en estos dias', '@andrest_12 ahh ya ya jajaja bueno, buenas noches, que descanse', '@tigreshooligan ay tan lindo amigo gracias espero que jueguen con rencor, porque se hacen imparables cuando estan resentidos', '@ticotraveleando ingrato, solo porque usted si', '@zunga a mi solo me quedan 5ya casi veo la luz', 'ay que bonito todo demasiado extraño no estar sufriendo a estas alturas vamos seleeeeee', '@lovatomylight jajaja exacto esta todo igual solo que mas serio pero nada de declaraciones aun solo que siempre nos decimos asi', 'mi familia ya empezo con villancicos a todo volumen 24/7 y yo que tenia mi musica puesta y me la quitaron', '@stephvald callese mae jajajaja, el carro estaba bastante duro mae jaja', 'lo malo de las indirectas esque son como un chisme pero a medias y asi no se puede', 'el otro año va a ser diferente y tiene que ser diferente', '@andrescastg verdad que triste que se haya llegado a ese punto', 'la vara es que odio las materias teoricas y amo cocinar', 'mami va a bajar la velocidad del internet pero mejor eso a que lo quite', 'hoy me desvelo de nuevo', 'mi papa emocionado hasta las lagrimas con los tenores hay conciertos que se quedan en el alma para siempre', 'me gusto mucho ahsroanoke fue una temporada muy buena y mucho miedo pero corta ya estoy ansiosa por la temporada 7️', '@alejandro__ge hay que pulsearla bastante, lo he intentado un par de veces y nada pero que buena foto mae', '@adriantixyt yo talvez no vuelva a yt por asuntos personales', '@edysmol me encanta que resaltes la moda sin ser superficial sino siendo un excelente critico saludos desde costa rica', 'lela me escribe yo le respondo lela me deja en gris', '@nathy_ab tome un descanso y apenas este de nuevo al 100% vamos a dairy queen, esta bien', '@edysmol correcto es pura arte mejor no lo pudiste describir felicidades bendiciones', 'nadie quiere ir a tomar cafe conmigo', '@holasoybataa pero interrumpiste en mi sueño, perdi el sueño en ese momento y gracias a ti no fui a trabajar porque me quede dormida', 'que bonito es anunciar que los excedentes de la asociacion solidarista, ya estan depositados', 'aun no puedo salir de la u porque la tarifa de uber esta alta, me escupo', '@wheeeing lo mejor es que no se ni que voy a estudiar', '@kengope oh, yo es que estaba curioso de google play music apple music no me sirve', 'estos cinnamonrolls traen muchas pasas puro sabor a navidad prosanafoods estaciongourmet', '@cinn_gc10 un chivi que hace videos y es mas tocandose el cabello que video haciendo \"algo divertido o entretenido\"', '@itsshirrley hizo un tiempazo en una ruta desafiante, felicidades es muy muy campeona ️', 'me hice un sandwich en vez de queso le puse leche condensada y aun asi lo puse a tostar', 'en face oswar me deja claro que no soy su amiga', '@_void07 calma pueblo todo va estar bien solo vaya presente todo y haga su fucking examen tranquilo', 'este año mas que otros ocupo trabajar esta temporada navideña, ocupo plataaaaaa si alguien sabe de algo me avisa', '@kabek y suuuuper diferente a sus trabajos anteriores tengo que comprarlo tho porque no esta disponible en apple music', 'me gusta el rumbo que mi vida esta llevando, me siento tranquila y contenta conmigo misma', 'lo peor de recibir clases en un restaurante es el fuerte olor a comida y el hambre que me tengo', 'que ladilla, yo soy chevere', 'solo actividades de mi interes me hacen levantarme a las 4am de menos jamas en la vida', 'despues de una semana comiendo en mexico a un precio ridiculo lo ultimo q haria es ir a la feria gasto-nomica lluviaencasa', 'hoy nos toco de ultimos en el festival navideño de pz y lloviendo adivinen como quede', 'ya cambiaron al modelo d paco rabane el que estaba antes era un muñequito yico', 'extraño mis siestas de todaaaa la tarde', '@vivihbena ahhh pero ahi estaban las rubias -- jajaja ( que mal que no se te quite', '@gpenavalle de las impotencias mas grandes entiende uno que significa la resignacion', 'no sabia que el amor de mi vida iba a cantar hubiese visto el programa', '@kevoludo24 todo esta super barato porque casi nadie fue el festival', 'ahora si es oficial tengo el trabajo mas chiva que podia pedir', '@vikyro18 sii claroo, en play 3 podes comprarlo por 5 dolares pero ya en ps4 no', 'que feo es tener que terminar con alguien y mas cuando las dos personas aun se aman pero el entorno no es favorable', 'ayer fui a @subwaycr y aun no estaban listos para recibir donaciones de puntos', 'casi me aplasta un arbol pero lo bueno es que en la casa ya llego la navida', '@rafa514x te creo, solo ganas de trollear', '- se llevo los doritos y los frescos - pero no se llevo el pan @marianacruz04', 'la lluvia definitivo que no me tiee piedad cuando ando en bus', 'odio a mi profesor de estudios sociales', 'que asco spotify desde la compu', '@fedeortegav ojala lo consiga, pero tambien ojala la empresa del concierto le de otra como sorpresa o algo asi', 'me gusta dar los buenos dias buenos diaaaas', '@laqvienedelsol @pilaracuna yo la deje como 3 años y ahora volvi el dia que termine del todo empezare un largo duelo', '@elchamuko me alegro milord feliz regreso a su casa en el averno', 'lunes con l de lindo gracias dios por el trabajo', '@mariete772 igual estaba en examenes finales y estuve muy inactivo, espero volver a la normalidad de ahora en adelante', '@lawanddemons perdon por ser la peor prometo darle mucho amor comprension y ternura apenas termine el semestre', 'hoy hice todo de una manera olimpica, pero algo se me tenia que olvidar ah si la sombrilla', '@vane_arcia si, era justo y necesario lo hice y me siento mejor', '@noy_07 pues de hecho si me funciono, me siento mas tranquila despues de eso', '@monumentalcr buenos dias, un exito su maratonica, yo me sume y se que van a llevar mucha alegria a personas que estan sufriendo', '@croq29 @chistetipico me ha pasado lo peor es cuando sin decirle nada a uno, lo agregan de nuevo jajajaja', 'preferiria discutir con un umpalumpa que con un (a cristiano (a conservador (a de derecha', '@ashzamc chao con ud en serio no te puedo', '@marcospedzik muchas gracias por tus palabras un fuerte abrazo para vos', 'cansado es poco pero saber que hoy se ayudo en algo me hace feliz', '@asuicideboy me siento muy identificada con tus tweet y vi tu cuenta porque mi mejor amiga aveces da rt a tus cosas', '@camposgeovanni en eso estamos claros, pero yo tengo fe en que los ticos somos solidarios cuando mas se necesita', 'mi mejor amigo me llamo que ya venia llegando a mi casa tengo 25 minutos esperandolo', '@titabobra aquel señor amigo suyo hizo un numerito hoy de esos que le encanta hacer otro dia en que la ginebra empezo a fluir temprano', '@mausaga vieras dolor jure nunca mas volver a ese lugar, queda en pz para los interesados', '@oski_1991 si o sea, el cel no me interesa tanto pero las cosas que tenia ahi eran irremplazables gracias por escribir', 'senasa necesita casas cuna, apuntense no hay suficiente presupuesto para todos los animalito afectados', '9 horas de que se fue del pais y ya la extraño', '@jaoc03 que buena fiesta se pegaba uno', 'hasta ahora me entero de que existe la carrera de \"investigador de animacion japonesa\", he desperdiciado mi vida', 'hoy hice el gol de mi vida, perdimos 8-1 pero hice el gol de mi vida', 'le envie una foto a ignacio y me dijo \"que picha mas fea\"', '@tia_yeye @jacko_pinto no sabia que eran pareja', 'la lluvia definitivo no me tiene piedad cuando ando en bus', '@rebsvargas un masculino adulto que es fanatico obsesivo de my little pony', '@unzorro88 a mi me gustan de hecho', '@malamujer ojala pudiera darte el abrazo en vivo o al menos acompañarte hoy siento mucho lo de tu primo', 'hoy habra nuevo campeon, que pase lo que sea, que @magnuscarlsen sea campeon o que @sergeykaryakin pierda carlsenkarjakin', 'pero en realidad soy mucho menos amargada, maldita y juega de viva de lo que parece lo prometo', '@bichoclarke lei el post equivocado aparentemente, me salieron los diseñadores snobs en mi feed', '@andrearivl me voy a morir quiero verlo en vivo y tigo no tiene cbs', 'pues que dicen que hubo temblorcr y yo ni me di cuenta porque pasamos ensayando tipico', '@kathysjo excelente, que grande que esta', 'quiero demasiado el balde de pollo, cebolla y papas fritas de la paperia alguien lleveme', 'mispropositospara2017son buscar un mejor amigo, necesito a alguien nadie', 'que enfermeria tenemos, gareth bale se podria perder el clasico', '@titabobra a mi jajaja y veame aqui con los ojos pelados', '@viborildasigue abrazos para ti desde aqui vibo ahi estare y listisima para grabar la entrevista', '@solucionesong genial iniciativa que nos puede ayudar', '\"estoy harta del semestre \" -yo, sabado por la noche, resolviendo integrales para encontrar areas', 'el amigo secreto de hoy trajo un delicioso arroz con leche', 'el primer capitulo de la primera temporada de black mirror es bien pinche triste, wey', '@marioredondo @ingenieractc no da igual, yo soy funcionaria publica y no todos pensamos asi', 'me siento tan sola por las noches, que duermo con pariss en la cama de mi hermano', '@alearguellof ojala sigan juntos mucho tiempo', '@somekindofedu pero pense que luego de jugar juntos todo iba a cambiar', 'ojala tuviera netflix como en los viejos tiempos', '@garitacrc y para que me tienes a mi son momentos y nos montamos un canal re-pichudo', 'puedo soñar ridicula pero si llore porque @smilinglybybau se fue', '@guillermobarqu1 carepichas esas solo piensan en ellas', 'es una verdadera ver que los videos mas caca tienen mas apoyo que los que costaron', '@eldiariodedross mandale un saludito a jonathan duarte que esta en el hospital pasandola mal con una operacion, y solo ver tu videos', '@andrea___cr @ccssdecostarica ufff hay una discusion enorme sobre esto la clinica mayo dejo de hacerlas por años por los resultados', 'porque si estaba bien me tiene que dar calentura de nuevo ', 'lo peor fue que nos encontramos en un bar, y no le pude hablar x mi timidez', '@twocannn a mediodia la proxima no lo dude aunque me vea serio yo soy un carajo buena nota', 'ya mi relacion no es lo igual con davi, ella me pierde', 'primera vez que david cena en mi casa y quiebra un vaso', '@jorge_rivera8 la del mio peor, tengo que andar con dos telefonoa para poder revisar tw, fb e ig', '@tsaitami descubrir que somos esta pichudo, diria el patan', 'les juro que lo stalkeo y mi instinto asesino se activa', 'tambien tenemos tradicion costarricense por supuesto cajeta de leche con almendras la mas rica de todas…', 'lo bueno de verano es que en el grupo hay varios compitas', 'las tenis blancas no se usan todos los dias', 'a mi en serio esas cosas de ganar no se me dan', 'soy la mejor amiga secreta de la vida, quiero el regalo que voy a dar', 'hoy sera un dia muy largo, y mi ultimo dia siendo un pilluelo de 21 años', 'me ire a dormir sabiendo que la unica app de manga con la que leo no tiene actualizado ons', 'esperando que sea un buen jueves por la noche', '@arlynerl03 y si me corrigen es como \"tragame tierra y llevame directo al infierno\"', '@estabarca fijo si me gusta hago lo que hice con el episodio vii fui al cine 5 veces', 'me encanta la olla de carne pero no me gusta que por ser sopa no me mantenga llena bastante tiempo', 'podria pasar un dia entero viendo solo mejengas', 'si se desesperan nos lleva puta', 'que triste cuando uno anda en una actividad y no tiene con quien bailar me vere muy rara bachateando sola en media pista ', '@franky2055 que dichoso ya casi terminas, yo apenas voy por el 85 jaja', '@meel_solis estamos en la misma lucha', '@ysareth la delicia mi mama casi no me deja meter a los gatos pero les encanta dormir aqui cuando pueden', 'por dicha solo me volvio a ver y siguio durmiendo, pero me dio lastima', 'yo me queria graduar con la camisa rosada', 'y si comemos crepas con una bebida de cafe o un smoothie hoy habra feria navideña y nuestra esparza se pone d…', 'no he visto el nuevo episodio de twd', 'buen dia @adruari ya le seguimos', '@mauhcorona lo normal es aburrido', 'fav si crees que me gustan los penes (como no soy famoso y nadie le va a dar fav pues tendre la consciencia limpia', 'hoy me di cuenta que mi crush ya tiene novia y es mucho menor que yo', 'odio que me cambien mis planes por comodidad de los demas', '@izzytica @unodien regla de los 3 segundos', '@chuletta diay estuvo bonito 5comentarios', 'men @redstoneknarias no nos eliques mas de porque pierdes, porque a nosotros lo unico que nos importa es divertirnos viendote jugar', 'ya estoy estresada de esperar resultados', '@prifv @kabek no hemos ido a la cabra loca', 'me llena demasiado ver tanta gente con la intencion de ayudar y moviendose que lindo todo', 'mi mama solo decirme que estoy gorda', '@mary_robre asi que ahora tenemos una posible nueva carrera armamentista in the making', 'sopa negra, opcion plato fuerte en la soda dios sabe como reconfortarme despues de las noticias agobiantes', '@natyrodriguez demasiada decepcion con la humanidad', '@avargas10785 yo te salgo de eso, yo es por luchona y que me elotan en el work lindaperopobra', 'cuando yo vi al pipi aqui en la conferencia de prensa casi lloro como ese niño pero solo estaba ahi temblando', '@chrchaves jale, traidor, vendido a la corona española', '@grassengel no podes tener lo mejor de los dos mundos', 'a la gente buena, le pasan cosas buenas  al resto a veces tambien nos pasan cosas buenas', 'nunca me he ganado nada con @pizzahutcrc y que chuzo seria probar la nueva pizza esta tarde liberiana esta como para la crown pizza', 'desde el jueves pasado estoy esperando el entreno', 'jaja trump en los primeros 3 meses se va a traer abajo el tlc nos vamos a ir todos a la mierda', 'no estaba muerte, andaba de parranda jejeje', '@fexcr ufff una cosa deliciosa jajaja que desorden  meti las patas ser feliz fexito', 'como cuando soy muy chineada y me traen almuerzo al trabajo  gracias @antrckstr', '@maufonseca11 @fexcr el otro muchacho que es nieto del señor de las galletitas, siempre tuvo una dulce navidad', 'otra vez quieren desnaturalizar el tema bienestaranimal, dejando en el texto de iniciativa popular solo a perros y gatos', '@laurapausini y su cancion: se non te video publicado el 10 nov del 2013 y aqui te lo compartimos', 'me siento tan cansada y saber que salgo hasta las 6', 'estoy toda estresada para el examen de mañana como que si lo fuese a perder jaja pero ya pase el curso y todo', 'me acaban de confundir con un estudiante universitario es el mejor \"buenos dias\" de todos', 'ocupo el viernes negro para ver si me compro un tele, el mio se daño', 'mis primos se fueron para cancun hoy, adivinen quien no fue por ser la unica -18', 'he pasado toda la mañana metida en google maps viendo costa rica pero no hay street view', 'me encontre una tarjeta pegada en el cajero y llame al banco para reportarla, la dueña puede estar tranquila whatgoesaroundcomesaround', '@la_llama_ @dospinosoficial tengo que probarlo estoy decepcionado ahora el fresco leche sabe a puro sirope', '@nitamar26 @pizzahutcrc el problema que ya no hay 2x1 en grandes ni tampoco los puntos hut, son dos pesimas noticias', '@absa_lon tenga paz bonito que en esta vida todo cuesta', 'necesito un gato en mi vida asi como ya, tengo que convencer a mis papas', '@juanjo90 @catasolis20 eso juan, lleguenle, va a estar divertido mucho gusto cata', 'para navidad voy a pedir que me suba el ponderado', 'yo deberia estar dormida y no bajo este largo ataque de ansiedad de baja intensidad', 'que triste ver que el odio por una mujer este por encima de la razon', '@brendiiuxx @baldihotspring1 ya se no queria salirme de las aguas termales mañana voy a monteverde a ver que tal', 'que viene nonpa y fijo es para mayores ya lloro', 'tengo que aprender a no prestar mis cosas, porque al parecer a todas se les hace muy divertido nunca devolverlas', 'que dicha que me vale todo lo que todo el mundo diga', 'ahora tengo que dormir llena de repelente', 'no se ni que leer para tratar de entender lo que va a pasar todas mis fuentes usuales fallaron', 'el turrialba me odia, en definitiva, es el milesimo ataque de asma en el semestre', '@imczc ay, no me diga eso, todo es posible aun', '@jdclarke y que el mae no sea tan desastroso como aparento durante la campaña hope is all we have left', '@soofpe06 jaja y ya ni eso, porque fijo no nos dejan entrar jajajaja', '@m_elinna jajajaja yo pense que habia captado la indirecta pero si, esta vacilon el avatar', 'ya tenemos ganadora felicidades @isabelgarbanzo nos hablamos por mensaje gracias a todos por participar', 'psc / psoe, podemos / izquierda unida distanciados, jeje', 'hoy tuve un dia muy lindo me chinearon mucho 2 amigos y el jueves uno que amo mucho', '@valeub25 pues si, se lo que se siente pero pienselo como el ultimo esfuerzo, que ya ahorita llegan las vacaciones', '@gabrielselva_cr pura vida ya llame pero fue como no haber llamado', 'estos dias me he soñado con el accidente varias veces increible el trauma que generan estas cosas', 'me siento tan feliz esta semana cerro bien', 'cuando cuando estas taaann cansado que no podes dormir', 'diganle a hellen que la extraño, odio estar sola', 'tan solo es un mal dia no una mala vida', 'no puedo entrar a mi servidor  y site5 no reponde', '@charito_garcia_ pues es un buen momento para hacerlo', '@silviauc_cr charita que ya no canto igual', 'hoy tenemos la seccion \"de su propia voz\" y es por parte del grupo @limite21 que nos contaran descubrilo en…', 'alguna pelicula tuanis que este en netflix que me quieran recomendar  gentequenocoge', 'la vida es demasiado corta para seguir las reglas', 'ayer descubri que no soy amargada, en realidad soy preocupada', 'acabo de tener una idea formidable que involucra a @tsaitami y por eso le mande un correo', 'decirle a un mae \"perro\" es una ofensa para los pobres animalitos', 'aw tae lo que daria por poder abrazarte', '@fabriziobarth lo siento mucho pero si facebook lo dice, es cierto sentido pesame', '@edurraiba es lamentable un tema tan sensible jamas con ese enfoque', 'esa lagartija tiene que haber estado muy enamorada de mi perrito canta llamandolo a la misma hora a diario y el hace mucho se fue', 'que duro iniciar el dia con noticias tristes', 'o mejor que me digan \"vamos a comer un helado\" y ya ocupo salir', '@karlillag es muy duro para un niño verse forzado a ser parte de esos procesos', '@fressia_montero por que  tenes 9 dias, actividades y muchas peliculas disponibles para asistir', '@medioensalsacr por supuesto que no le importo a nadie soy hombre, eurodescendiente, heterosexual y catolico cc @titabobra', '@fannylu dice que \"llorar es una locura\" que opinas si decis si entonces a cantar', '@jaspn_ yo voy de fijo ahora llamo a reservar', 'hola me complacerian con paraolvidarte de @mauyricky por faaaaa saludos desde liberia @azul999fm', 'hola me complacerian con paraolvidarte de @mauyricky por faaaaa saludos desde liberia @lamejor991fm', 'hola me complacerian con paraolvidarte de @mauyricky por faaaaa saludos desde liberia @ok1055fm', 'hola me complacerian con paraolvidarte de @mauyricky por faaaaa saludos desde liberia @radiocientotres', '@melangelesvc ni tamales, pierna, \"fresquitos\", queque nada', 'y en el cafe sono \"son inu\" y hasta los que estabamos sentados, nos meneamos', 'malparidos malditos malnacidos ya hay carta de lillie en \"full art\" y todo y de serena nada', '@gbviquez yo queria que me dieran la bcr asi', '@tutzyff jajaja que bueno verla anoche, que pases un excelente dia', 'el se ha ganado un lugar especial en mi corazon', '@fabian05_p perdida ya no tomo coca', 'quiero que en serio me paguen para poder irme a rayar la otra semana', '@xiniach xinia de mi vida tenia toda la intencion pero se me hizo imposible al final del dia', 'amaneci lleno de la comilona anoche en el bnopenhouse pero siempre hay campo para mas  a desayunar', 'buenos dias con o sin gripe, hoy se disfruta el dia', '@azulalytasoy nombs cual tercera yo voy a muchas actividades de @bnmascerca en el año, ya van mas de tres', 'necesito unos tacones negros a las ya', '@linnjimenez y uno se pone triste cuando no quedan papas en la bolsa', '@soulstrk @youcaring como quisiera ayudar pero no puedo soy menor y no tengo tarjeta y mucho menos dinero si tuviera le daria todo', 'hoy llegue 50 minutos tarde a clases fui literalmente solo 10 minutos dure 2hrs35min llegando a la u', 'la segunda temporada de fuller house me duro 3 dias', 'estos seran los dos ultimos shows que bailo con mis minis bboys', '@gabrielselva_cr ah no, es en el auditorio nacional hasta el proximo año en marzo jaja', '@afranchesqui @marhegu si, tambien he leido quejas en twitter sobre la interaccion social en los buses', 'estaba durmiendo tan ricooo jaja que colera que me dio cuando me despertaron', '@ana_avilam hmmmm no se, aun las siento pegadas en el cielo de la boca', '@fersalas2205 yo igual no trabajo el 26', '@cotarola no sali no puedo manejar: migraña', 'necesito ir a mi hogar y dormir con mis dos hijos peludos y kabek y su gripe', 'porque terminaba contrato, ya vi seguro se fue solito', 'me hace sentir tan bien al ver a mi ex y no sentir absolutamente nada por el', 'en definitiva me quede sin campo para ir a tacares, ya que me habia mentalizado y ya hasta queria ir percebe', 'ysf2 @mundonickla la mejor serie en todo el mundo ', 'sera que en serio alguien puede dormir tanto', '@sanzzeritica y que no sera la primera vez', '@wkcarlos yo soy igual jajajaja trato de evitarlo pero no lo logro', 'que buena vibra me transmite @cocofunka', 'adquiri @semrush_es para un sitio que abarcara 10 paises y hasta el momento me ha parecido una excelente herramienta', 'un pais tan afectado como haiti, necesita del mundo entero', '@drahongo y son adorables, pero diay ya no hay nada que hacer', '@solounrobot @tvynovelasmex sera solo digital entonces perfecto de verdad muchisimas gracias un abrazo desde costa rica pura vida', '@jevs_ acabo de llamar y si tienen muchisimas gracias', 'cuando hago desordenes con el horario de la comida me agarra un dolor de cabeza permanente', 'nunca dejen el snapchat abierto en el celular de la mama, creo hoy duermo en la calle', 'creo que tengo una contractura en los hombros asi o mas hecha picha', 'superluna eectativa vs realidad gracias • • • • • • • crc puravida costarica…', '@espn_fdj soy de cr estudiante de periodismo me encanta el ambito deportivo los admiro y sueño con conocerlos, porfaa fdjpuravida', 'si la u cerro todo entonces yo estoy libre hasta el lunes', 'que bonito, la lluvia regresa cuando me toca ir por mi hermanita al kinder', 'alguien tiene algun contacto que haga queques navideños', 'ustedes saben que mi vida se basa en vistos', 'se lesiona bale antes del clasico', '@cris525cr que todo les salga muy bonito', 'sin morata, kroos, bale y puede que aun sin casemiro para el clasico', '@francellabrenes rajado, y mientras llega aca', '@funfillegamer soy muy malo funfi me da pena y todo', 'mae eso si es cierto, ahora nadie (la mayoria busca tener algo serio', '1146pm y tengo hambre, mejor me acuesto ya por que la panaderia esta cerrada', '@isamarsanchezg antes era mas seguido saliamos por batidos de maracuya', '@andreavasro lo es sin ningun respeto al dolor ajeno', 'badilla era tan tan guapo que senti feo cuando me di cuenta', 'yo si que odio recibir noticias asi', 'ay la cancion de tercer cielo', '@welcometofridda jajajaja ya en serio me haces falta', '@adri_hdezv bby muy duro la verdad', '@andreavasro @vulturgryphus otra decepcion (me estoy haciendo la victima dramatica, obvio', '@marymatamoros exitos y buena vibra en el recital', 'que pecadito la gente afectada por las inundaciones', 'tengo como 10 horas de estar mareado y con ganas de vomitar, ya esta bueno verdad', '@titabobra exacto, que colera me da eso', 'mi mama me dice que no vaya al cole, en serio que la amo pero tengo que ir', 'no mames lo triste gabriel badilla y por el corazon el miedo que me dan esas cosas', 'lamentable lo de badilla un sentido pesame para sus hijas que se quedan sin papa', 'oido en mcdonalds \"el mejor mannequin challenge que he visto hasta ahora es el que ha venido haciendo este gobierno desde hace dos años\"', 'maldita lluvia me mata mi negocio asi nadie quiere bañar ni sacar a los perros', 'veo que si la depresion tropical se convierte en huracan se llamara otto que comience el memefest', 'hola, @latrwn1 en este momento no lo tenemos, pero como siempre: queda encargado para el proximo pedido', 'el tren cada media hora es un mito urbano, no ha pasado el de las 9', 'lamentable informan que murio gabriel badilla ripgladiador', 'yo si lo senti y me lleva puta', 'hola, soy sole, el sismografo humano', '@ushcala que bueno, claro que si, enviame tu direccion de correo por dm', '@andigu hola, me dijo que estaba bien, fuertes aguaceros y mucho viento pero todo bajo control gracias por preguntar', '@moboza pavas igual y no nosdejaron irnos a la casa', '@rafa514x excelente, estamos muy atentos a tus comentarios', '@_alejandrodp no estoy en la zona roja', 'juro que el proximo cuatri busco aparta con alguien no puedo con esto de estar sola', '@ekallestad que bien suena una nordica hablando en argento', 'en heredia ese temblor se sintio leve pero horrible', 'quiero una caldosa y un granizado', 'uri por cobarde se fue en la colada moisesylos10mandamientos', '@erito0513 shi, pero como el año pasado no jajaja ah creo que no fuiste', 'otro terremoto y otra alerta de tsunami para japon', 'desde hoy en la pura mañanita no veo a mi papa', '@valegarrou jaja es lo menos que hago por dicha pero si paso pegado a fb', 'exijo un beso como el de carl y enid, que lindoooooo wtf twd', 'los anuncios de tv de posgrados de mi alma mater son tan malos', '@anamablaba buena idea, anis, pero ellos saben que yo ni un pancake puedo hacer bien', '@emacavi @viuditacr como dijo ud algo similar entonces', 'bueno por dicha ya estoy en zarcero, no estoy en la calle haha', 'que se hace cuando mi mama tiene facebook, y no me da pelota por estar metida en el celular', '@zeroanima tomese de algo de una vez y listo', '@valealfaroq yo ando en las mismas, pero no tanto dolor sino inflamacion y parezco embarazada que horror', 'en enero la ropa esta mas barata por si no sabian', 'que triste todo este cierre de año para mi 🇨🇷 linda', '@mishafantana si obvio eso es lo importante, gracias por preguntar', 'en mi pueblo anda una patrulla de @fuerzapublicacr recolectando alimentos no perecederos en mi casa ya donamos costaricaunida', '@brenes0791 yo estoy super ansiosa, el asueto me da la tranquilidad de estar con mis papas, nada mas', '@melikosha @sputnk no vi esto igual no podia hacer mucho', '@maluavi @edmed82 @figuerescr invitadisimo a hacer las cosas diferente, hay que involucrarse y dar espacios a la mejor gente', '@massiel_ml amiga siiii y la pobresa extrema sigue', 'yo ya estoy con gripe y ni me he mojado', '@andynuinsa @nachosantos7 me dejo congelado por algo es el amo de los ratings', '@nenealfarob amen en serio hay q hacerlo', 'mis anteojos estan demasiado flojos y eso que tienen meses de comprados', 'yo solo estoy pensando en proteger a mis gatos y a la perrita', 'segundo cuarto y golden ya lleva 73 puntos', '@kimsalas21 la vida conspira en contra de uno, que injusto jaja', 'en curridabat muy calmado, ni una gota de agua y hasta caliente esta 20v nomegusta', '@car_hidalgo lo hacen a diario hoy es mas palpable por la emergencia ️', '@vesamo13 ok, vea el lado positivo, tiene un motivo para hacerle drama el resto de si vida', '@gaby_mata25 la voz sepsi que debe tener que dicha gaby ya el lunes regresara \"con toda la pata\"', 'esta va a ser la noche mas larga para muchos', '@conoche repollo ud ultimamente como que muy amargo', '@tvnnoticias no para esa hora es devastador el efecto de ottocr en mi pais en realidad', '@glori_177 gloria, en serio es muy probable, que triste', 'hoy puede ser el penultimo capitulo de ragnar lothbrok', 'se me rompio el pantalon horizontalmrnnte por el muslo hasta debajo de la nalga ya estoy a la moda', '@wancitocubero @ericsolanog me uno a la triste historia de no vacas', 'que chiva pasar debajo del puente de la platina, siempre he querido es en serio', 'el pueblo mas bonito de españa 2016 enhorabuena @viniegradeabajo solo rioja, solo bueno', '@bejardo ahh no eso fijo pero en este caso en especifico hablo solamente de vestimenta', 'estoy solita en la oficina pondre mis videos de cosas paranormales sin audifonos', '@gat1tu solo viste feo lo demas todo ok', 'ayer inicie con mi proyecto de hacerme mi propia huerta', 'que dicha que hay trabajo y salud y vacaciones tambien', '@joharoversi ja ja pero esta precioso el condenado', 'juegos de polvora y mi perrito asustado', '@_star_vader tanto libro chiva que hay y buen punto comida entonces', '@chamo_a_ la hijueputa tela se me salio yo queria volver a quedar acostada', 'estoy asi de no salir hoy', 'vamos a pasar año nuevo a la playa no bueno', 'extraño todo de belen es tan chiva', 'y nos vamos encontrando a un ex en el hotel', 'mi hermano y yo convertimos el comedor principal en un cafe internet', '@edgumaco me acuerdo de la clinica norza, el peri, las casas en lotes llobet dañadas', 'todavia no me he comido un maldito tamal', '@oviedo_6 yo personalmente lo bloquearia inmediatamente pero al final yo no soy una belleza so', 'hoy tuve mi primera premier y fue un exito', '@jefersonserrano @luisricardo_28 @danielugalde07 @stedich7 nombres yo llego hasta las 10:30 sabado a las 7 am mejor jajaja', '@vale24_12 siempre es bueno la opinion de un playo', 'soy el ser mas distraido del mundo', 'ojala que te de un bloqueo mas grande que el de mi cel', 'toda mi familia va a estar dormida en mi graduacion', 'espero que mi jefe me de mañana libre', '@ka_arroyo_ jajaja yo nunca spoileo, eso lo odio pero le recomiendo no meterse a tw mañana', '@hippielandsoul yo defendia un poquito el 2016, ya no', '@valeriazumbado esto es lo mas triste : pero espero que el 24 si', '@afichesmanudos con las rayas mas gruesas, me gusta pumas sabe lo que hace', '@vrandrd bueno igual la vere porque el protagonista es muy guapo', 'para mi mama toda la ropa que escojo es fea hasta que me la ve puesta', 'llevaba tiempo de no estar tan quemada', '@germangn09 pero igual es feo, horrible, espantoso', '@lisethbriceno rajado que si, lo voy a extrañar un poquito', 'buen dia @dr_ivrecagu muchas gracias por su comentario, es un gusto servirle', 'seria la mejor compañia para marce y osquitar  bueno y yo', '@henaubsol17 yo estoy igual hoy peque feo', 'feliz termine cuatri fue un exito  ahora sueño con algo grande', '@reinerjosueuh que raro, el mio si es real', 'mis lunes no volveran a ser iguales @luis_gadeaa', '@victora_perez ah bueno, gracias por estar taaaan pendiente de nosotros', 'ayer me dieron una botella y le pegue un trago pensando que era yin o fresca gracias marifer', '@leiva89 lo puse y vi la int de manning esta empezando igual', '@conejoceni01 digame que no es caro porque ya estoy bien pobre', 'amo la nueva cancion de sofia reyes', 'ya no me quiero mover estupidos aeropuertos', 'la proxima vez que vaya a un bar hasta me sirvo yo solo', 'me corte el pelo y me siento demasiado pelona', 'mañana tengo el dia libre y no tengo nada mas que hacer que dormir', 'cada vez que veo a esa muchacha esta mas guapa', '@lalusa @moboza @andrey_amador errar es d humanos no debe d pasar a mas', '@charlie10cr seguro las productoras estaban centradas en traer los de siempre', 'tener grandes eectativas a futuro, eso es vida', '@ignaciosolisw ya yo voy de vuelta, pero le deje la pampa lindisima', 'me voy mañana para la playa, confiando que el sol me quite esta gripe tan horrible', 'envidio de buena manera a los que tienen la oportunidad de ir mañana al estadio', '@karorc4 hay unos que son casi mision imposible pero esta super lindo', '@cotarola te mando un abrazo vienen dias duros, pero se superan eventualmente', 'no me arrepiento de nada ah ojala tuviera dinero infinito', 'cuando queres comprar muchas cosas pero eres pobre', 'lo extraño demasiado 5 dias es demasiado para mi', '@zeroanima esto me hizo feliz pero aun mas triste por no poder teletrabajar', '@cmfluisangel misionero ideal, oh claret 109 beatos nuevos', 'mañana que entonces -yo buscando donde pasar navidad por que me dejaron solo', 'me da tanta playada tener que ponerle el cono de nuevo a whiska', 'quiero amigos que le gusten mis gustos musicales, ya tengo pero viven largo', 'que rico el silencio de mi cuarto', 'desayuno guanacasteco hoy es nochebuena, hoy damos vueltita por nicoya', 'pense hacer algo con belen y machu, pero de nuevo me dejaron sola', 'feliz navidad, feliz navidad, feliz navidad y feliz navidad', '@__el_negro ah mae que duro eso en este dia', '@chelo1478 porque si digo que quiero mamon chino me dicen una vulgaridad', '@gaby_mata25 @luises22 fue la ultima vez que fuimos al cine', '@moriuper hola no, ya no hay mas sur', '@kimberlyreyesc4 como te digo, come maaaas y en mi casa solo estamos mama y yo', '@jey_gut aun no tenemos fechas definidas, pero te avisamos apenas sepamos', '@msalgadocr de fijoooo y luego juntos olvidamos que fuimos a palmares', '@eebenitez_ jajaja es muy triste esto, pero ya hoy consigo otro', 'mami se acaba de ir y ya la extraño', '@juanamartinezh seguirme es lo unico que tienes que hacer', 'ayer llore viendo a @alexbadilla en el snap que playada', '@cncomusic reggaeton lento la cancion del fin de año', '@brujamalvada_ no tengo en la casa apenas entre, te mando uno asi jaja', '@argmau deben ser mejores las que no me hacen menchon', 'estoy viendo bridegroom en netflix y me tiene de un puro moco, veanla', 'ser productora radiofonica es lo mejor de la vida', '@nubecina @grassengel pero no estan en el canton central de sjo', 'si ocupan gente para una mejenga yo estoy disponible', '@jatenas @amareto abrazote enorme sos un exito', '@jovel_alvarez no se si a todos les funcione pero nosotros si que lo vemos cumplido', 'quiero como tener carro para hacer todo rapido', 'tristeza mas hp me da siempre en año nuevo', 'no encuentro ninguna buena serie en nf', '@alphasniper97 alpha suerte y ten un feliz año 2017', '@sancarlena77 @miguelpintor05 @demalaspalabras sip, te entendi por tu tuit anterior']\n"
     ]
    }
   ],
   "source": [
    "lista = []\n",
    "for usuario in train_df[\"content\"]:\n",
    "    \n",
    "    lista.append(usuario)\n",
    "\n",
    "print (lista)\n"
   ]
  },
  {
   "cell_type": "code",
   "execution_count": 25,
   "metadata": {},
   "outputs": [],
   "source": [
    "#eliminar las funciones de usurari \n",
    "\n",
    "def filter_reply(content): \n",
    "    temp = content\n",
    "    while temp.find(\"@\") > -1:\n",
    "        temp = temp[:temp.find(\"@\")] + temp[(temp.find(\" \", temp.find(\"@\"))):]\n",
    "    return temp"
   ]
  },
  {
   "cell_type": "code",
   "execution_count": 28,
   "metadata": {},
   "outputs": [],
   "source": [
    "train_df[\"content\"] = train_df[\"content\"].apply(filter_reply)\n"
   ]
  },
  {
   "cell_type": "code",
   "execution_count": 30,
   "metadata": {},
   "outputs": [
    {
     "data": {
      "text/html": [
       "<div>\n",
       "<style scoped>\n",
       "    .dataframe tbody tr th:only-of-type {\n",
       "        vertical-align: middle;\n",
       "    }\n",
       "\n",
       "    .dataframe tbody tr th {\n",
       "        vertical-align: top;\n",
       "    }\n",
       "\n",
       "    .dataframe thead th {\n",
       "        text-align: right;\n",
       "    }\n",
       "</style>\n",
       "<table border=\"1\" class=\"dataframe\">\n",
       "  <thead>\n",
       "    <tr style=\"text-align: right;\">\n",
       "      <th></th>\n",
       "      <th>tweetid</th>\n",
       "      <th>user</th>\n",
       "      <th>content</th>\n",
       "      <th>date</th>\n",
       "      <th>lang</th>\n",
       "      <th>sentiment</th>\n",
       "    </tr>\n",
       "  </thead>\n",
       "  <tbody>\n",
       "    <tr>\n",
       "      <th>0</th>\n",
       "      <td>768225400254111744</td>\n",
       "      <td>14628107</td>\n",
       "      <td>yo soy totalmente puntual</td>\n",
       "      <td>2016-08-23 23:16:23+00:00</td>\n",
       "      <td>es</td>\n",
       "      <td>none</td>\n",
       "    </tr>\n",
       "    <tr>\n",
       "      <th>1</th>\n",
       "      <td>770077064833671168</td>\n",
       "      <td>713600676</td>\n",
       "      <td>hola sandrita no le habia deseado un feliz di...</td>\n",
       "      <td>2016-08-29 01:54:14+00:00</td>\n",
       "      <td>es</td>\n",
       "      <td>1</td>\n",
       "    </tr>\n",
       "    <tr>\n",
       "      <th>2</th>\n",
       "      <td>771207534342320128</td>\n",
       "      <td>120940293</td>\n",
       "      <td>si andan haciendo eso mejor se quedaran callad...</td>\n",
       "      <td>2016-09-01 04:46:19+00:00</td>\n",
       "      <td>es</td>\n",
       "      <td>-1</td>\n",
       "    </tr>\n",
       "    <tr>\n",
       "      <th>3</th>\n",
       "      <td>771900763987513344</td>\n",
       "      <td>2827444381</td>\n",
       "      <td>que pereza quiero choco banano</td>\n",
       "      <td>2016-09-03 02:40:58+00:00</td>\n",
       "      <td>es</td>\n",
       "      <td>-1</td>\n",
       "    </tr>\n",
       "    <tr>\n",
       "      <th>4</th>\n",
       "      <td>772550560998301696</td>\n",
       "      <td>60878511</td>\n",
       "      <td>bueno, no es tanto lo mayor como cuanto de ca...</td>\n",
       "      <td>2016-09-04 21:43:01+00:00</td>\n",
       "      <td>es</td>\n",
       "      <td>-1</td>\n",
       "    </tr>\n",
       "  </tbody>\n",
       "</table>\n",
       "</div>"
      ],
      "text/plain": [
       "              tweetid        user  \\\n",
       "0  768225400254111744    14628107   \n",
       "1  770077064833671168   713600676   \n",
       "2  771207534342320128   120940293   \n",
       "3  771900763987513344  2827444381   \n",
       "4  772550560998301696    60878511   \n",
       "\n",
       "                                             content  \\\n",
       "0                          yo soy totalmente puntual   \n",
       "1   hola sandrita no le habia deseado un feliz di...   \n",
       "2  si andan haciendo eso mejor se quedaran callad...   \n",
       "3                     que pereza quiero choco banano   \n",
       "4   bueno, no es tanto lo mayor como cuanto de ca...   \n",
       "\n",
       "                       date lang sentiment  \n",
       "0 2016-08-23 23:16:23+00:00   es      none  \n",
       "1 2016-08-29 01:54:14+00:00   es         1  \n",
       "2 2016-09-01 04:46:19+00:00   es        -1  \n",
       "3 2016-09-03 02:40:58+00:00   es        -1  \n",
       "4 2016-09-04 21:43:01+00:00   es        -1  "
      ]
     },
     "execution_count": 30,
     "metadata": {},
     "output_type": "execute_result"
    }
   ],
   "source": [
    "train_df.head()"
   ]
  },
  {
   "cell_type": "code",
   "execution_count": 31,
   "metadata": {},
   "outputs": [],
   "source": [
    "indexNames = train_df[(train_df[\"sentiment\"]== \"none\") | (train_df [\"sentiment\"]==\"neu\")].index"
   ]
  },
  {
   "cell_type": "code",
   "execution_count": 32,
   "metadata": {},
   "outputs": [],
   "source": [
    "train_df.drop(indexNames, inplace=True)"
   ]
  },
  {
   "cell_type": "code",
   "execution_count": 34,
   "metadata": {},
   "outputs": [
    {
     "name": "stdout",
     "output_type": "stream",
     "text": [
      "<class 'pandas.core.indexes.numeric.Int64Index'>\n"
     ]
    },
    {
     "data": {
      "text/html": [
       "<div>\n",
       "<style scoped>\n",
       "    .dataframe tbody tr th:only-of-type {\n",
       "        vertical-align: middle;\n",
       "    }\n",
       "\n",
       "    .dataframe tbody tr th {\n",
       "        vertical-align: top;\n",
       "    }\n",
       "\n",
       "    .dataframe thead th {\n",
       "        text-align: right;\n",
       "    }\n",
       "</style>\n",
       "<table border=\"1\" class=\"dataframe\">\n",
       "  <thead>\n",
       "    <tr style=\"text-align: right;\">\n",
       "      <th></th>\n",
       "      <th>tweetid</th>\n",
       "      <th>user</th>\n",
       "      <th>content</th>\n",
       "      <th>date</th>\n",
       "      <th>lang</th>\n",
       "      <th>sentiment</th>\n",
       "    </tr>\n",
       "  </thead>\n",
       "  <tbody>\n",
       "    <tr>\n",
       "      <th>1</th>\n",
       "      <td>770077064833671168</td>\n",
       "      <td>713600676</td>\n",
       "      <td>hola sandrita no le habia deseado un feliz di...</td>\n",
       "      <td>2016-08-29 01:54:14+00:00</td>\n",
       "      <td>es</td>\n",
       "      <td>1</td>\n",
       "    </tr>\n",
       "    <tr>\n",
       "      <th>2</th>\n",
       "      <td>771207534342320128</td>\n",
       "      <td>120940293</td>\n",
       "      <td>si andan haciendo eso mejor se quedaran callad...</td>\n",
       "      <td>2016-09-01 04:46:19+00:00</td>\n",
       "      <td>es</td>\n",
       "      <td>-1</td>\n",
       "    </tr>\n",
       "    <tr>\n",
       "      <th>3</th>\n",
       "      <td>771900763987513344</td>\n",
       "      <td>2827444381</td>\n",
       "      <td>que pereza quiero choco banano</td>\n",
       "      <td>2016-09-03 02:40:58+00:00</td>\n",
       "      <td>es</td>\n",
       "      <td>-1</td>\n",
       "    </tr>\n",
       "    <tr>\n",
       "      <th>4</th>\n",
       "      <td>772550560998301696</td>\n",
       "      <td>60878511</td>\n",
       "      <td>bueno, no es tanto lo mayor como cuanto de ca...</td>\n",
       "      <td>2016-09-04 21:43:01+00:00</td>\n",
       "      <td>es</td>\n",
       "      <td>-1</td>\n",
       "    </tr>\n",
       "    <tr>\n",
       "      <th>6</th>\n",
       "      <td>772264329433509888</td>\n",
       "      <td>373097882</td>\n",
       "      <td>el de halfon de germinal se ve mortal y los d...</td>\n",
       "      <td>2016-09-04 02:45:38+00:00</td>\n",
       "      <td>es</td>\n",
       "      <td>1</td>\n",
       "    </tr>\n",
       "  </tbody>\n",
       "</table>\n",
       "</div>"
      ],
      "text/plain": [
       "              tweetid        user  \\\n",
       "1  770077064833671168   713600676   \n",
       "2  771207534342320128   120940293   \n",
       "3  771900763987513344  2827444381   \n",
       "4  772550560998301696    60878511   \n",
       "6  772264329433509888   373097882   \n",
       "\n",
       "                                             content  \\\n",
       "1   hola sandrita no le habia deseado un feliz di...   \n",
       "2  si andan haciendo eso mejor se quedaran callad...   \n",
       "3                     que pereza quiero choco banano   \n",
       "4   bueno, no es tanto lo mayor como cuanto de ca...   \n",
       "6   el de halfon de germinal se ve mortal y los d...   \n",
       "\n",
       "                       date lang sentiment  \n",
       "1 2016-08-29 01:54:14+00:00   es         1  \n",
       "2 2016-09-01 04:46:19+00:00   es        -1  \n",
       "3 2016-09-03 02:40:58+00:00   es        -1  \n",
       "4 2016-09-04 21:43:01+00:00   es        -1  \n",
       "6 2016-09-04 02:45:38+00:00   es         1  "
      ]
     },
     "execution_count": 34,
     "metadata": {},
     "output_type": "execute_result"
    }
   ],
   "source": [
    "#Datos clasificados con sentimientos\n",
    "train_df.head()"
   ]
  },
  {
   "cell_type": "code",
   "execution_count": 36,
   "metadata": {},
   "outputs": [],
   "source": [
    "#analisis te texto\n",
    "\n",
    "#tomando los datos del corpus de SE\n",
    "\n",
    "from sklearn.feature_extraction.text import TfidfTransformer, TfidfVectorizer\n",
    "from sklearn.pipeline import Pipeline\n",
    "from sklearn.model_selection import train_test_split\n",
    "from sklearn.metrics import accuracy_score, classification_report, confusion_matrix"
   ]
  },
  {
   "cell_type": "code",
   "execution_count": 37,
   "metadata": {},
   "outputs": [
    {
     "data": {
      "text/plain": [
       "-1    310\n",
       " 1    221\n",
       "Name: sentiment, dtype: int64"
      ]
     },
     "execution_count": 37,
     "metadata": {},
     "output_type": "execute_result"
    }
   ],
   "source": [
    "train_df[\"sentiment\"].value_counts()"
   ]
  },
  {
   "cell_type": "code",
   "execution_count": 40,
   "metadata": {},
   "outputs": [
    {
     "data": {
      "text/plain": [
       "tweetid      0\n",
       "user         0\n",
       "content      0\n",
       "date         0\n",
       "lang         0\n",
       "sentiment    0\n",
       "dtype: int64"
      ]
     },
     "execution_count": 40,
     "metadata": {},
     "output_type": "execute_result"
    }
   ],
   "source": [
    "#conteo de datos nulos \n",
    "train_df.isnull().sum()"
   ]
  },
  {
   "cell_type": "code",
   "execution_count": 43,
   "metadata": {},
   "outputs": [
    {
     "data": {
      "text/plain": [
       "'!\"#$%&\\'()*+,-./:;<=>?@[\\\\]^_`{|}~¡¿'"
      ]
     },
     "execution_count": 43,
     "metadata": {},
     "output_type": "execute_result"
    }
   ],
   "source": [
    "# Tokenizacion \n",
    "# funcion de puntuacion con string \n",
    "import string\n",
    "puntua = string.punctuation + \"¡¿\" #agregando los de español\n",
    "puntua"
   ]
  },
  {
   "cell_type": "code",
   "execution_count": 64,
   "metadata": {},
   "outputs": [],
   "source": [
    "#quitando los pronombres, limpieza de datos\n",
    "#Función para limpieza de datos\n",
    "def text_data_cleaning(sentence):\n",
    "    doc = nlp1(sentence)\n",
    "    \n",
    "    tokens = []\n",
    "    for token in doc:\n",
    "        if token.lemma_ != \"-PRON-\":\n",
    "            temp = token.lemma_.strip()\n",
    "        else:\n",
    "            temp = token\n",
    "        tokens.append(temp)\n",
    "    \n",
    "    clean_tokens = []\n",
    "    for token in tokens:\n",
    "        if token not in stopwords_spacy and token not in puntua:\n",
    "            clean_tokens.append(token)\n",
    "    \n",
    "    return clean_tokens"
   ]
  },
  {
   "cell_type": "code",
   "execution_count": 65,
   "metadata": {},
   "outputs": [],
   "source": [
    "# aplicando a los los tweis de content\n",
    "#vectorizacion feature Engineering (TF-IDF)\n",
    "from sklearn.svm import LinearSVC\n"
   ]
  },
  {
   "cell_type": "code",
   "execution_count": 66,
   "metadata": {},
   "outputs": [],
   "source": [
    "\n",
    "tfidf = TfidfVectorizer(tokenizer=text_data_cleaning)\n",
    "classifier = LinearSVC()"
   ]
  },
  {
   "cell_type": "code",
   "execution_count": 67,
   "metadata": {},
   "outputs": [],
   "source": [
    "#creando los vectores\n",
    "x = train_df[\"content\"]\n",
    "y = train_df[\"sentiment\"]"
   ]
  },
  {
   "cell_type": "code",
   "execution_count": 68,
   "metadata": {},
   "outputs": [],
   "source": [
    "#tomar los vectores y tomar el set de prueba\n",
    "\n",
    "x_train, x_test, y_train, y_test = train_test_split(x, y, test_size=0.2, random_state=42)\n"
   ]
  },
  {
   "cell_type": "code",
   "execution_count": 69,
   "metadata": {},
   "outputs": [],
   "source": [
    "#pipeline usando el clasificador y el TF-IDF\n",
    "\n",
    "clf = Pipeline([(\"tfidf\", tfidf), (\"clf\", classifier)])"
   ]
  },
  {
   "cell_type": "code",
   "execution_count": 70,
   "metadata": {},
   "outputs": [],
   "source": [
    "#el formato por defecto es no determinado, se pasa a formato conocido para evitar erres \n",
    "y_train = y_train.astype(\"int\")\n",
    "y_test = y_test.astype(\"int\")\n"
   ]
  },
  {
   "cell_type": "code",
   "execution_count": 71,
   "metadata": {},
   "outputs": [
    {
     "name": "stderr",
     "output_type": "stream",
     "text": [
      "C:\\Users\\salom\\AppData\\Local\\Packages\\PythonSoftwareFoundation.Python.3.10_qbz5n2kfra8p0\\LocalCache\\local-packages\\Python310\\site-packages\\sklearn\\feature_extraction\\text.py:528: UserWarning: The parameter 'token_pattern' will not be used since 'tokenizer' is not None'\n",
      "  warnings.warn(\n"
     ]
    },
    {
     "data": {
      "text/html": [
       "<style>#sk-container-id-1 {color: black;background-color: white;}#sk-container-id-1 pre{padding: 0;}#sk-container-id-1 div.sk-toggleable {background-color: white;}#sk-container-id-1 label.sk-toggleable__label {cursor: pointer;display: block;width: 100%;margin-bottom: 0;padding: 0.3em;box-sizing: border-box;text-align: center;}#sk-container-id-1 label.sk-toggleable__label-arrow:before {content: \"▸\";float: left;margin-right: 0.25em;color: #696969;}#sk-container-id-1 label.sk-toggleable__label-arrow:hover:before {color: black;}#sk-container-id-1 div.sk-estimator:hover label.sk-toggleable__label-arrow:before {color: black;}#sk-container-id-1 div.sk-toggleable__content {max-height: 0;max-width: 0;overflow: hidden;text-align: left;background-color: #f0f8ff;}#sk-container-id-1 div.sk-toggleable__content pre {margin: 0.2em;color: black;border-radius: 0.25em;background-color: #f0f8ff;}#sk-container-id-1 input.sk-toggleable__control:checked~div.sk-toggleable__content {max-height: 200px;max-width: 100%;overflow: auto;}#sk-container-id-1 input.sk-toggleable__control:checked~label.sk-toggleable__label-arrow:before {content: \"▾\";}#sk-container-id-1 div.sk-estimator input.sk-toggleable__control:checked~label.sk-toggleable__label {background-color: #d4ebff;}#sk-container-id-1 div.sk-label input.sk-toggleable__control:checked~label.sk-toggleable__label {background-color: #d4ebff;}#sk-container-id-1 input.sk-hidden--visually {border: 0;clip: rect(1px 1px 1px 1px);clip: rect(1px, 1px, 1px, 1px);height: 1px;margin: -1px;overflow: hidden;padding: 0;position: absolute;width: 1px;}#sk-container-id-1 div.sk-estimator {font-family: monospace;background-color: #f0f8ff;border: 1px dotted black;border-radius: 0.25em;box-sizing: border-box;margin-bottom: 0.5em;}#sk-container-id-1 div.sk-estimator:hover {background-color: #d4ebff;}#sk-container-id-1 div.sk-parallel-item::after {content: \"\";width: 100%;border-bottom: 1px solid gray;flex-grow: 1;}#sk-container-id-1 div.sk-label:hover label.sk-toggleable__label {background-color: #d4ebff;}#sk-container-id-1 div.sk-serial::before {content: \"\";position: absolute;border-left: 1px solid gray;box-sizing: border-box;top: 0;bottom: 0;left: 50%;z-index: 0;}#sk-container-id-1 div.sk-serial {display: flex;flex-direction: column;align-items: center;background-color: white;padding-right: 0.2em;padding-left: 0.2em;position: relative;}#sk-container-id-1 div.sk-item {position: relative;z-index: 1;}#sk-container-id-1 div.sk-parallel {display: flex;align-items: stretch;justify-content: center;background-color: white;position: relative;}#sk-container-id-1 div.sk-item::before, #sk-container-id-1 div.sk-parallel-item::before {content: \"\";position: absolute;border-left: 1px solid gray;box-sizing: border-box;top: 0;bottom: 0;left: 50%;z-index: -1;}#sk-container-id-1 div.sk-parallel-item {display: flex;flex-direction: column;z-index: 1;position: relative;background-color: white;}#sk-container-id-1 div.sk-parallel-item:first-child::after {align-self: flex-end;width: 50%;}#sk-container-id-1 div.sk-parallel-item:last-child::after {align-self: flex-start;width: 50%;}#sk-container-id-1 div.sk-parallel-item:only-child::after {width: 0;}#sk-container-id-1 div.sk-dashed-wrapped {border: 1px dashed gray;margin: 0 0.4em 0.5em 0.4em;box-sizing: border-box;padding-bottom: 0.4em;background-color: white;}#sk-container-id-1 div.sk-label label {font-family: monospace;font-weight: bold;display: inline-block;line-height: 1.2em;}#sk-container-id-1 div.sk-label-container {text-align: center;}#sk-container-id-1 div.sk-container {/* jupyter's `normalize.less` sets `[hidden] { display: none; }` but bootstrap.min.css set `[hidden] { display: none !important; }` so we also need the `!important` here to be able to override the default hidden behavior on the sphinx rendered scikit-learn.org. See: https://github.com/scikit-learn/scikit-learn/issues/21755 */display: inline-block !important;position: relative;}#sk-container-id-1 div.sk-text-repr-fallback {display: none;}</style><div id=\"sk-container-id-1\" class=\"sk-top-container\"><div class=\"sk-text-repr-fallback\"><pre>Pipeline(steps=[(&#x27;tfidf&#x27;,\n",
       "                 TfidfVectorizer(tokenizer=&lt;function text_data_cleaning at 0x000001C12076E3B0&gt;)),\n",
       "                (&#x27;clf&#x27;, LinearSVC())])</pre><b>In a Jupyter environment, please rerun this cell to show the HTML representation or trust the notebook. <br />On GitHub, the HTML representation is unable to render, please try loading this page with nbviewer.org.</b></div><div class=\"sk-container\" hidden><div class=\"sk-item sk-dashed-wrapped\"><div class=\"sk-label-container\"><div class=\"sk-label sk-toggleable\"><input class=\"sk-toggleable__control sk-hidden--visually\" id=\"sk-estimator-id-1\" type=\"checkbox\" ><label for=\"sk-estimator-id-1\" class=\"sk-toggleable__label sk-toggleable__label-arrow\">Pipeline</label><div class=\"sk-toggleable__content\"><pre>Pipeline(steps=[(&#x27;tfidf&#x27;,\n",
       "                 TfidfVectorizer(tokenizer=&lt;function text_data_cleaning at 0x000001C12076E3B0&gt;)),\n",
       "                (&#x27;clf&#x27;, LinearSVC())])</pre></div></div></div><div class=\"sk-serial\"><div class=\"sk-item\"><div class=\"sk-estimator sk-toggleable\"><input class=\"sk-toggleable__control sk-hidden--visually\" id=\"sk-estimator-id-2\" type=\"checkbox\" ><label for=\"sk-estimator-id-2\" class=\"sk-toggleable__label sk-toggleable__label-arrow\">TfidfVectorizer</label><div class=\"sk-toggleable__content\"><pre>TfidfVectorizer(tokenizer=&lt;function text_data_cleaning at 0x000001C12076E3B0&gt;)</pre></div></div></div><div class=\"sk-item\"><div class=\"sk-estimator sk-toggleable\"><input class=\"sk-toggleable__control sk-hidden--visually\" id=\"sk-estimator-id-3\" type=\"checkbox\" ><label for=\"sk-estimator-id-3\" class=\"sk-toggleable__label sk-toggleable__label-arrow\">LinearSVC</label><div class=\"sk-toggleable__content\"><pre>LinearSVC()</pre></div></div></div></div></div></div></div>"
      ],
      "text/plain": [
       "Pipeline(steps=[('tfidf',\n",
       "                 TfidfVectorizer(tokenizer=<function text_data_cleaning at 0x000001C12076E3B0>)),\n",
       "                ('clf', LinearSVC())])"
      ]
     },
     "execution_count": 71,
     "metadata": {},
     "output_type": "execute_result"
    }
   ],
   "source": [
    "#tomar el clasificador con el vector de entrenamiento \n",
    "\n",
    "clf.fit(x_train, y_train)"
   ]
  },
  {
   "cell_type": "code",
   "execution_count": 72,
   "metadata": {},
   "outputs": [
    {
     "data": {
      "text/plain": [
       "((424,), (107,))"
      ]
     },
     "execution_count": 72,
     "metadata": {},
     "output_type": "execute_result"
    }
   ],
   "source": [
    "#tamano de los datos \n",
    "\n",
    "x_train.shape, x_test.shape"
   ]
  },
  {
   "cell_type": "code",
   "execution_count": 73,
   "metadata": {},
   "outputs": [],
   "source": [
    "#prediccion con el clasificador \n",
    "\n",
    "y_pred = clf.predict(x_test)\n",
    "\n"
   ]
  },
  {
   "cell_type": "code",
   "execution_count": 74,
   "metadata": {},
   "outputs": [
    {
     "data": {
      "text/plain": [
       "(107,)"
      ]
     },
     "execution_count": 74,
     "metadata": {},
     "output_type": "execute_result"
    }
   ],
   "source": [
    "y_pred.shape"
   ]
  },
  {
   "cell_type": "code",
   "execution_count": 75,
   "metadata": {},
   "outputs": [
    {
     "name": "stdout",
     "output_type": "stream",
     "text": [
      "              precision    recall  f1-score   support\n",
      "\n",
      "          -1       0.78      0.76      0.77        68\n",
      "           1       0.60      0.62      0.61        39\n",
      "\n",
      "    accuracy                           0.71       107\n",
      "   macro avg       0.69      0.69      0.69       107\n",
      "weighted avg       0.71      0.71      0.71       107\n",
      "\n"
     ]
    }
   ],
   "source": [
    "#que tan parecido quedo la infirmacion en cuanto a la original\n",
    "\n",
    "print (classification_report(y_test, y_pred))\n"
   ]
  },
  {
   "cell_type": "code",
   "execution_count": 76,
   "metadata": {},
   "outputs": [
    {
     "data": {
      "text/plain": [
       "array([[52, 16],\n",
       "       [15, 24]], dtype=int64)"
      ]
     },
     "execution_count": 76,
     "metadata": {},
     "output_type": "execute_result"
    }
   ],
   "source": [
    "confusion_matrix(y_test, y_pred)"
   ]
  },
  {
   "cell_type": "code",
   "execution_count": 81,
   "metadata": {},
   "outputs": [
    {
     "data": {
      "text/plain": [
       "array([-1])"
      ]
     },
     "execution_count": 81,
     "metadata": {},
     "output_type": "execute_result"
    }
   ],
   "source": [
    "#hacer preducciones con otro texto \n",
    "clf.predict([\"\"])"
   ]
  },
  {
   "cell_type": "code",
   "execution_count": null,
   "metadata": {},
   "outputs": [],
   "source": []
  }
 ],
 "metadata": {
  "kernelspec": {
   "display_name": "Python 3",
   "language": "python",
   "name": "python3"
  },
  "language_info": {
   "codemirror_mode": {
    "name": "ipython",
    "version": 3
   },
   "file_extension": ".py",
   "mimetype": "text/x-python",
   "name": "python",
   "nbconvert_exporter": "python",
   "pygments_lexer": "ipython3",
   "version": "3.10.11"
  },
  "orig_nbformat": 4
 },
 "nbformat": 4,
 "nbformat_minor": 2
}
